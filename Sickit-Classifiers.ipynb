{
 "cells": [
  {
   "cell_type": "code",
   "execution_count": 1,
   "id": "ccde0976",
   "metadata": {
    "_cell_guid": "b1076dfc-b9ad-4769-8c92-a6c4dae69d19",
    "_uuid": "8f2839f25d086af736a60e9eeb907d3b93b6e0e5",
    "execution": {
     "iopub.execute_input": "2023-05-07T09:41:15.098446Z",
     "iopub.status.busy": "2023-05-07T09:41:15.098049Z",
     "iopub.status.idle": "2023-05-07T09:41:16.965915Z",
     "shell.execute_reply": "2023-05-07T09:41:16.964924Z"
    },
    "papermill": {
     "duration": 1.878137,
     "end_time": "2023-05-07T09:41:16.968660",
     "exception": false,
     "start_time": "2023-05-07T09:41:15.090523",
     "status": "completed"
    },
    "tags": []
   },
   "outputs": [],
   "source": [
    "import pandas as pd\n",
    "import matplotlib.pyplot as plt\n",
    "import numpy as np\n",
    "import seaborn as sns\n",
    "import matplotlib.colors as colors\n",
    "from sklearn.model_selection import train_test_split\n",
    "from sklearn.metrics import balanced_accuracy_score, accuracy_score\n",
    "from sklearn.linear_model import LinearRegression\n",
    "from itertools import combinations\n",
    "import seaborn as sns\n",
    "from sklearn.metrics import f1_score\n",
    "from sklearn.ensemble import RandomForestClassifier, RandomForestRegressor\n",
    "from sklearn.linear_model import LogisticRegression \n",
    "from sklearn.svm import SVC\n",
    "from sklearn.ensemble import RandomForestClassifier\n",
    "from sklearn.ensemble import GradientBoostingClassifier\n",
    "from sklearn.pipeline import Pipeline\n",
    "from sklearn.model_selection import GridSearchCV, RandomizedSearchCV\n",
    "from sklearn.model_selection import train_test_split\n",
    "from sklearn.tree import DecisionTreeClassifier\n",
    "from sklearn.naive_bayes import MultinomialNB\n",
    "from sklearn.neighbors import KNeighborsClassifier\n",
    "from sklearn.feature_selection import SelectKBest,f_regression\n",
    "from sklearn.model_selection import RandomizedSearchCV\n",
    "from sklearn.naive_bayes import GaussianNB\n",
    "from sklearn.decomposition import PCA\n",
    "from sklearn.metrics import *\n"
   ]
  },
  {
   "cell_type": "markdown",
   "id": "8227a549",
   "metadata": {
    "papermill": {
     "duration": 0.004161,
     "end_time": "2023-05-07T09:41:16.977563",
     "exception": false,
     "start_time": "2023-05-07T09:41:16.973402",
     "status": "completed"
    },
    "tags": []
   },
   "source": [
    "# Loading Data, splitting into train, validation(dev) and test\n"
   ]
  },
  {
   "cell_type": "code",
   "execution_count": 2,
   "id": "a76a2d9f",
   "metadata": {
    "execution": {
     "iopub.execute_input": "2023-05-07T09:41:16.989362Z",
     "iopub.status.busy": "2023-05-07T09:41:16.988571Z",
     "iopub.status.idle": "2023-05-07T09:41:17.256437Z",
     "shell.execute_reply": "2023-05-07T09:41:17.255458Z"
    },
    "papermill": {
     "duration": 0.276704,
     "end_time": "2023-05-07T09:41:17.258989",
     "exception": false,
     "start_time": "2023-05-07T09:41:16.982285",
     "status": "completed"
    },
    "tags": []
   },
   "outputs": [
    {
     "data": {
      "text/html": [
       "<div>\n",
       "<style scoped>\n",
       "    .dataframe tbody tr th:only-of-type {\n",
       "        vertical-align: middle;\n",
       "    }\n",
       "\n",
       "    .dataframe tbody tr th {\n",
       "        vertical-align: top;\n",
       "    }\n",
       "\n",
       "    .dataframe thead th {\n",
       "        text-align: right;\n",
       "    }\n",
       "</style>\n",
       "<table border=\"1\" class=\"dataframe\">\n",
       "  <thead>\n",
       "    <tr style=\"text-align: right;\">\n",
       "      <th></th>\n",
       "      <th>f0</th>\n",
       "      <th>f1</th>\n",
       "      <th>f2</th>\n",
       "      <th>f3</th>\n",
       "      <th>f4</th>\n",
       "      <th>f5</th>\n",
       "      <th>f6</th>\n",
       "      <th>f7</th>\n",
       "      <th>f8</th>\n",
       "      <th>f9</th>\n",
       "      <th>...</th>\n",
       "      <th>f33</th>\n",
       "      <th>f34</th>\n",
       "      <th>f35</th>\n",
       "      <th>f36</th>\n",
       "      <th>f37</th>\n",
       "      <th>f38</th>\n",
       "      <th>f39</th>\n",
       "      <th>f40</th>\n",
       "      <th>f41</th>\n",
       "      <th>target</th>\n",
       "    </tr>\n",
       "  </thead>\n",
       "  <tbody>\n",
       "    <tr>\n",
       "      <th>0</th>\n",
       "      <td>1</td>\n",
       "      <td>0</td>\n",
       "      <td>0</td>\n",
       "      <td>0</td>\n",
       "      <td>0</td>\n",
       "      <td>0</td>\n",
       "      <td>2</td>\n",
       "      <td>1</td>\n",
       "      <td>2</td>\n",
       "      <td>2</td>\n",
       "      <td>...</td>\n",
       "      <td>0</td>\n",
       "      <td>0</td>\n",
       "      <td>0</td>\n",
       "      <td>2</td>\n",
       "      <td>0</td>\n",
       "      <td>0</td>\n",
       "      <td>0</td>\n",
       "      <td>0</td>\n",
       "      <td>0</td>\n",
       "      <td>2</td>\n",
       "    </tr>\n",
       "    <tr>\n",
       "      <th>1</th>\n",
       "      <td>0</td>\n",
       "      <td>0</td>\n",
       "      <td>0</td>\n",
       "      <td>0</td>\n",
       "      <td>0</td>\n",
       "      <td>0</td>\n",
       "      <td>2</td>\n",
       "      <td>1</td>\n",
       "      <td>0</td>\n",
       "      <td>0</td>\n",
       "      <td>...</td>\n",
       "      <td>0</td>\n",
       "      <td>0</td>\n",
       "      <td>0</td>\n",
       "      <td>2</td>\n",
       "      <td>0</td>\n",
       "      <td>0</td>\n",
       "      <td>0</td>\n",
       "      <td>0</td>\n",
       "      <td>0</td>\n",
       "      <td>2</td>\n",
       "    </tr>\n",
       "    <tr>\n",
       "      <th>2</th>\n",
       "      <td>2</td>\n",
       "      <td>1</td>\n",
       "      <td>2</td>\n",
       "      <td>1</td>\n",
       "      <td>1</td>\n",
       "      <td>0</td>\n",
       "      <td>2</td>\n",
       "      <td>2</td>\n",
       "      <td>0</td>\n",
       "      <td>0</td>\n",
       "      <td>...</td>\n",
       "      <td>0</td>\n",
       "      <td>0</td>\n",
       "      <td>0</td>\n",
       "      <td>1</td>\n",
       "      <td>0</td>\n",
       "      <td>0</td>\n",
       "      <td>0</td>\n",
       "      <td>0</td>\n",
       "      <td>0</td>\n",
       "      <td>2</td>\n",
       "    </tr>\n",
       "    <tr>\n",
       "      <th>3</th>\n",
       "      <td>0</td>\n",
       "      <td>0</td>\n",
       "      <td>0</td>\n",
       "      <td>0</td>\n",
       "      <td>0</td>\n",
       "      <td>0</td>\n",
       "      <td>0</td>\n",
       "      <td>0</td>\n",
       "      <td>0</td>\n",
       "      <td>0</td>\n",
       "      <td>...</td>\n",
       "      <td>0</td>\n",
       "      <td>0</td>\n",
       "      <td>0</td>\n",
       "      <td>2</td>\n",
       "      <td>0</td>\n",
       "      <td>0</td>\n",
       "      <td>0</td>\n",
       "      <td>0</td>\n",
       "      <td>0</td>\n",
       "      <td>2</td>\n",
       "    </tr>\n",
       "    <tr>\n",
       "      <th>4</th>\n",
       "      <td>0</td>\n",
       "      <td>0</td>\n",
       "      <td>0</td>\n",
       "      <td>0</td>\n",
       "      <td>0</td>\n",
       "      <td>0</td>\n",
       "      <td>1</td>\n",
       "      <td>1</td>\n",
       "      <td>2</td>\n",
       "      <td>0</td>\n",
       "      <td>...</td>\n",
       "      <td>0</td>\n",
       "      <td>0</td>\n",
       "      <td>0</td>\n",
       "      <td>2</td>\n",
       "      <td>1</td>\n",
       "      <td>2</td>\n",
       "      <td>0</td>\n",
       "      <td>0</td>\n",
       "      <td>0</td>\n",
       "      <td>2</td>\n",
       "    </tr>\n",
       "  </tbody>\n",
       "</table>\n",
       "<p>5 rows × 43 columns</p>\n",
       "</div>"
      ],
      "text/plain": [
       "   f0  f1  f2  f3  f4  f5  f6  f7  f8  f9  ...  f33  f34  f35  f36  f37  f38  \\\n",
       "0   1   0   0   0   0   0   2   1   2   2  ...    0    0    0    2    0    0   \n",
       "1   0   0   0   0   0   0   2   1   0   0  ...    0    0    0    2    0    0   \n",
       "2   2   1   2   1   1   0   2   2   0   0  ...    0    0    0    1    0    0   \n",
       "3   0   0   0   0   0   0   0   0   0   0  ...    0    0    0    2    0    0   \n",
       "4   0   0   0   0   0   0   1   1   2   0  ...    0    0    0    2    1    2   \n",
       "\n",
       "   f39  f40  f41  target  \n",
       "0    0    0    0       2  \n",
       "1    0    0    0       2  \n",
       "2    0    0    0       2  \n",
       "3    0    0    0       2  \n",
       "4    0    0    0       2  \n",
       "\n",
       "[5 rows x 43 columns]"
      ]
     },
     "execution_count": 2,
     "metadata": {},
     "output_type": "execute_result"
    }
   ],
   "source": [
    "obj = pd.read_pickle('/kaggle/input/applied-ass2/ass2.pickle')\n",
    "train,dev,test = obj['train'],obj['dev'],obj['test']\n",
    "train = train.reset_index(drop=True)\n",
    "train.head()"
   ]
  },
  {
   "cell_type": "code",
   "execution_count": 3,
   "id": "4401526c",
   "metadata": {
    "execution": {
     "iopub.execute_input": "2023-05-07T09:41:17.271018Z",
     "iopub.status.busy": "2023-05-07T09:41:17.269968Z",
     "iopub.status.idle": "2023-05-07T09:41:17.499798Z",
     "shell.execute_reply": "2023-05-07T09:41:17.498535Z"
    },
    "papermill": {
     "duration": 0.238406,
     "end_time": "2023-05-07T09:41:17.502351",
     "exception": false,
     "start_time": "2023-05-07T09:41:17.263945",
     "status": "completed"
    },
    "tags": []
   },
   "outputs": [
    {
     "name": "stdout",
     "output_type": "stream",
     "text": [
      "[2 1 0]\n",
      "target\n",
      "0     3917\n",
      "1     9882\n",
      "2    26734\n",
      "dtype: int64\n"
     ]
    },
    {
     "data": {
      "image/png": "[encoded data removed]",
      "text/plain": [
       "<Figure size 640x480 with 1 Axes>"
      ]
     },
     "metadata": {},
     "output_type": "display_data"
    }
   ],
   "source": [
    "print(train['target'].unique())\n",
    "print(train.groupby('target').size())\n",
    "sns.countplot(x='target', data=train)\n",
    "plt.show()"
   ]
  },
  {
   "cell_type": "markdown",
   "id": "4342a324",
   "metadata": {
    "papermill": {
     "duration": 0.004855,
     "end_time": "2023-05-07T09:41:17.512626",
     "exception": false,
     "start_time": "2023-05-07T09:41:17.507771",
     "status": "completed"
    },
    "tags": []
   },
   "source": [
    "# Correlation matrix - Heatmap"
   ]
  },
  {
   "cell_type": "code",
   "execution_count": 4,
   "id": "275ce817",
   "metadata": {
    "execution": {
     "iopub.execute_input": "2023-05-07T09:41:17.524662Z",
     "iopub.status.busy": "2023-05-07T09:41:17.524243Z",
     "iopub.status.idle": "2023-05-07T09:41:18.917615Z",
     "shell.execute_reply": "2023-05-07T09:41:18.916330Z"
    },
    "papermill": {
     "duration": 1.402563,
     "end_time": "2023-05-07T09:41:18.920271",
     "exception": false,
     "start_time": "2023-05-07T09:41:17.517708",
     "status": "completed"
    },
    "tags": []
   },
   "outputs": [
    {
     "data": {
      "text/plain": [
       "<AxesSubplot:>"
      ]
     },
     "execution_count": 4,
     "metadata": {},
     "output_type": "execute_result"
    },
    {
     "data": {
      "image/png": "[encoded data removed]",
      "text/plain": [
       "<Figure size 1100x900 with 2 Axes>"
      ]
     },
     "metadata": {},
     "output_type": "display_data"
    }
   ],
   "source": [
    "corr = train.corr()\n",
    "mask = np.triu(np.ones_like(corr, dtype=bool))\n",
    "sns.set_style(style = 'white')\n",
    "f, ax = plt.subplots(figsize=(11, 9))\n",
    "cmap = sns.diverging_palette(10, 250, as_cmap=True)\n",
    "sns.heatmap(corr, mask=mask, cmap=cmap, \n",
    "        square=True,\n",
    "        linewidths=.5, cbar_kws={\"shrink\": .5}, ax=ax)"
   ]
  },
  {
   "cell_type": "markdown",
   "id": "48056931",
   "metadata": {
    "papermill": {
     "duration": 0.005921,
     "end_time": "2023-05-07T09:41:18.932817",
     "exception": false,
     "start_time": "2023-05-07T09:41:18.926896",
     "status": "completed"
    },
    "tags": []
   },
   "source": [
    "# Train and Target separation"
   ]
  },
  {
   "cell_type": "code",
   "execution_count": 5,
   "id": "73c39ae4",
   "metadata": {
    "execution": {
     "iopub.execute_input": "2023-05-07T09:41:18.946830Z",
     "iopub.status.busy": "2023-05-07T09:41:18.946391Z",
     "iopub.status.idle": "2023-05-07T09:41:18.964536Z",
     "shell.execute_reply": "2023-05-07T09:41:18.963383Z"
    },
    "papermill": {
     "duration": 0.028445,
     "end_time": "2023-05-07T09:41:18.967329",
     "exception": false,
     "start_time": "2023-05-07T09:41:18.938884",
     "status": "completed"
    },
    "tags": []
   },
   "outputs": [],
   "source": [
    "X_train, X_test = train.loc[:, train.columns != 'target'] ,dev.loc[:, dev.columns != 'target']\n",
    "y_train, y_test =  train['target'], dev['target']"
   ]
  },
  {
   "cell_type": "markdown",
   "id": "b1a91332",
   "metadata": {
    "papermill": {
     "duration": 0.005759,
     "end_time": "2023-05-07T09:41:18.979262",
     "exception": false,
     "start_time": "2023-05-07T09:41:18.973503",
     "status": "completed"
    },
    "tags": []
   },
   "source": [
    "# Training RF and validation top feature importance"
   ]
  },
  {
   "cell_type": "code",
   "execution_count": 6,
   "id": "ecddf1e0",
   "metadata": {
    "execution": {
     "iopub.execute_input": "2023-05-07T09:41:18.993668Z",
     "iopub.status.busy": "2023-05-07T09:41:18.992592Z",
     "iopub.status.idle": "2023-05-07T09:41:30.507848Z",
     "shell.execute_reply": "2023-05-07T09:41:30.506346Z"
    },
    "papermill": {
     "duration": 11.525344,
     "end_time": "2023-05-07T09:41:30.510703",
     "exception": false,
     "start_time": "2023-05-07T09:41:18.985359",
     "status": "completed"
    },
    "tags": []
   },
   "outputs": [
    {
     "data": {
      "image/png": "[encoded data removed]",
      "text/plain": [
       "<Figure size 1000x1500 with 1 Axes>"
      ]
     },
     "metadata": {},
     "output_type": "display_data"
    }
   ],
   "source": [
    "# fitting the model\n",
    "model = RandomForestClassifier(n_estimators=500, n_jobs=-1, random_state=42)\n",
    "model.fit(X_train, y_train)\n",
    "# plotting feature importances\n",
    "features = train.drop('target', axis=1).columns\n",
    "importances = model.feature_importances_\n",
    "indices = np.argsort(importances)\n",
    "plt.figure(figsize=(10,15))\n",
    "plt.title('Feature Importances')\n",
    "plt.barh(range(len(indices)), importances[indices], color='g', align='center')\n",
    "plt.yticks(range(len(indices)), [features[i] for i in indices])\n",
    "plt.xlabel('Relative Importance')\n",
    "plt.show()"
   ]
  },
  {
   "cell_type": "markdown",
   "id": "879c6a3f",
   "metadata": {
    "papermill": {
     "duration": 0.007179,
     "end_time": "2023-05-07T09:41:30.525169",
     "exception": false,
     "start_time": "2023-05-07T09:41:30.517990",
     "status": "completed"
    },
    "tags": []
   },
   "source": [
    "# Defining different models and hyper params"
   ]
  },
  {
   "cell_type": "code",
   "execution_count": 7,
   "id": "e5e4c1c6",
   "metadata": {
    "execution": {
     "iopub.execute_input": "2023-05-07T09:41:30.540919Z",
     "iopub.status.busy": "2023-05-07T09:41:30.540479Z",
     "iopub.status.idle": "2023-05-07T09:41:30.550491Z",
     "shell.execute_reply": "2023-05-07T09:41:30.549146Z"
    },
    "papermill": {
     "duration": 0.020768,
     "end_time": "2023-05-07T09:41:30.552909",
     "exception": false,
     "start_time": "2023-05-07T09:41:30.532141",
     "status": "completed"
    },
    "tags": []
   },
   "outputs": [],
   "source": [
    "models_to_params = [\n",
    "    (GradientBoostingClassifier(), \n",
    "    {   'model__learning_rate': [0.01,0.02,0.03],\n",
    "        'model__subsample'    : [0.9, 0.5, 0.2],\n",
    "        'model__n_estimators' : [100,250,500],\n",
    "        'model__max_depth'    : [4,6,8]}),\n",
    "    (RandomForestClassifier(),\n",
    "     {'model__n_estimators': [100, 200, 300], \n",
    "      'model__max_depth': [5, 10]}),\n",
    "    (SVC(),\n",
    "     {'model__C': [0.1, 0.5 ,1, 5 ,10], \n",
    "      'model__kernel': ['linear', 'poly', 'rbf', 'sigmoid']}),\n",
    "    (KNeighborsClassifier(),\n",
    "     {'model__n_neighbors': [2, 5, 7 ,10, 15 ,20], \n",
    "      'model__weights': ['uniform', 'distance']}),\n",
    "    (GaussianNB(), {\n",
    "        'model__var_smoothing': [1e-9, 1e-8, 1e-7, 1e-6, 1e-5]\n",
    "    })\n",
    "]\n",
    "\n",
    "# defining pre proccessing parameters\n",
    "# select k best feature according to f_regresssion or PCA\n",
    "pre_to_params = [(SelectKBest(f_regression), {'pre__k':[20,25,27,30,33,35,38,40]}),\n",
    "                 (PCA() , {'pre__n_components': [5, 10, 20]})]"
   ]
  },
  {
   "cell_type": "markdown",
   "id": "1baf7982",
   "metadata": {
    "papermill": {
     "duration": 0.006634,
     "end_time": "2023-05-07T09:41:30.566741",
     "exception": false,
     "start_time": "2023-05-07T09:41:30.560107",
     "status": "completed"
    },
    "tags": []
   },
   "source": [
    "# RandomizedSearchCV for best estimators and hyperparams"
   ]
  },
  {
   "cell_type": "code",
   "execution_count": 8,
   "id": "af2e539c",
   "metadata": {
    "execution": {
     "iopub.execute_input": "2023-05-07T09:41:30.582968Z",
     "iopub.status.busy": "2023-05-07T09:41:30.582043Z",
     "iopub.status.idle": "2023-05-07T15:55:02.381009Z",
     "shell.execute_reply": "2023-05-07T15:55:02.379180Z"
    },
    "papermill": {
     "duration": 22411.811929,
     "end_time": "2023-05-07T15:55:02.385642",
     "exception": false,
     "start_time": "2023-05-07T09:41:30.573713",
     "status": "completed"
    },
    "tags": []
   },
   "outputs": [
    {
     "name": "stdout",
     "output_type": "stream",
     "text": [
      "GradientBoostingClassifier Metrics:\n",
      "Accuracy: 0.8411782119597395\n",
      "F1-score: 0.821698556791385\n",
      "Best hyperparameters: {'pre__k': 35, 'model__subsample': 0.9, 'model__n_estimators': 500, 'model__max_depth': 8, 'model__learning_rate': 0.02}\n",
      " pre__k  model__subsample  model__n_estimators  model__max_depth  model__learning_rate  mean_test_score\n",
      "     33               0.5                  100                 6                  0.02         0.742062\n",
      "     30               0.5                  250                 6                  0.01         0.748797\n",
      "     27               0.5                  100                 4                  0.03         0.722646\n",
      "     40               0.9                  100                 8                  0.03         0.793427\n",
      "     40               0.9                  500                 4                  0.03         0.787235\n",
      "     40               0.2                  100                 6                  0.03         0.763477\n",
      "     35               0.5                  500                 6                  0.01         0.781980\n",
      "     35               0.9                  500                 8                  0.02         0.825599\n",
      "     25               0.2                  100                 6                  0.01         0.700368\n",
      "     25               0.9                  250                 4                  0.03         0.743098\n",
      "=======================================\n",
      "GradientBoostingClassifier Metrics:\n",
      "Accuracy: 0.7559206631142688\n",
      "F1-score: 0.7125607732893431\n",
      "Best hyperparameters: {'pre__n_components': 20, 'model__subsample': 0.2, 'model__n_estimators': 500, 'model__max_depth': 8, 'model__learning_rate': 0.02}\n",
      " pre__n_components  model__subsample  model__n_estimators  model__max_depth  model__learning_rate  mean_test_score\n",
      "                 5               0.9                  100                 4                  0.03         0.665458\n",
      "                 5               0.5                  500                 8                  0.02         0.678361\n",
      "                20               0.2                  500                 8                  0.02         0.754891\n",
      "                 5               0.9                  100                 8                  0.02         0.674019\n",
      "                10               0.5                  100                 4                  0.02         0.668739\n",
      "                20               0.9                  100                 6                  0.01         0.676362\n",
      "                20               0.9                  250                 6                  0.01         0.700516\n",
      "                10               0.9                  100                 8                  0.03         0.697950\n",
      "                 5               0.9                  500                 8                  0.03         0.678978\n",
      "                10               0.9                  250                 8                  0.01         0.694866\n",
      "=======================================\n",
      "RandomForestClassifier Metrics:\n",
      "Accuracy: 0.7238010657193605\n",
      "F1-score: 0.6559913055749219\n",
      "Best hyperparameters: {'pre__k': 27, 'model__n_estimators': 200, 'model__max_depth': 10}\n",
      " pre__k  model__n_estimators  model__max_depth  mean_test_score\n",
      "     27                  200                10         0.722720\n",
      "     25                  100                 5         0.669899\n",
      "     35                  100                10         0.711297\n",
      "     20                  100                 5         0.669775\n",
      "     27                  100                10         0.722177\n",
      "     35                  300                10         0.712481\n",
      "     33                  200                 5         0.661436\n",
      "     40                  200                 5         0.661461\n",
      "     40                  100                 5         0.661584\n",
      "     33                  300                 5         0.661609\n",
      "=======================================\n",
      "RandomForestClassifier Metrics:\n",
      "Accuracy: 0.6898312611012434\n",
      "F1-score: 0.5986157253248182\n",
      "Best hyperparameters: {'pre__n_components': 20, 'model__n_estimators': 300, 'model__max_depth': 10}\n",
      " pre__n_components  model__n_estimators  model__max_depth  mean_test_score\n",
      "                 5                  200                 5         0.662152\n",
      "                20                  100                10         0.693188\n",
      "                20                  100                 5         0.661264\n",
      "                20                  300                10         0.693238\n",
      "                 5                  200                10         0.673205\n",
      "                 5                  100                 5         0.662497\n",
      "                10                  100                10         0.683640\n",
      "                10                  200                10         0.684282\n",
      "                20                  300                 5         0.661214\n",
      "                 5                  100                10         0.673353\n",
      "=======================================\n",
      "SVC Metrics:\n",
      "Accuracy: 0.8094286560094731\n",
      "F1-score: 0.7866793749443013\n",
      "Best hyperparameters: {'pre__k': 33, 'model__kernel': 'rbf', 'model__C': 10}\n",
      " pre__k model__kernel  model__C  mean_test_score\n",
      "     33           rbf      10.0         0.799373\n",
      "     38       sigmoid       0.5         0.518195\n",
      "     30       sigmoid       0.1         0.518590\n",
      "     40        linear       5.0         0.659561\n",
      "     38       sigmoid      10.0         0.476254\n",
      "     20           rbf       1.0         0.735993\n",
      "     35          poly       0.1         0.708287\n",
      "     35        linear       0.5         0.659561\n",
      "     25        linear       1.0         0.659561\n",
      "     27       sigmoid       0.1         0.520884\n",
      "=======================================\n",
      "SVC Metrics:\n",
      "Accuracy: 0.6767317939609236\n",
      "F1-score: 0.5797255031821924\n",
      "Best hyperparameters: {'pre__n_components': 10, 'model__kernel': 'rbf', 'model__C': 0.5}\n",
      " pre__n_components model__kernel  model__C  mean_test_score\n",
      "                10          poly       5.0         0.659561\n",
      "                 5        linear      10.0         0.659561\n",
      "                10           rbf       0.5         0.677670\n",
      "                20          poly       0.1         0.662670\n",
      "                 5       sigmoid       0.5         0.499569\n",
      "                 5          poly       0.1         0.659561\n",
      "                20       sigmoid       0.1         0.557373\n",
      "                10          poly       0.5         0.659561\n",
      "                20       sigmoid       1.0         0.504132\n",
      "                 5          poly      10.0         0.659561\n",
      "=======================================\n",
      "KNeighborsClassifier Metrics:\n",
      "Accuracy: 0.761915334517466\n",
      "F1-score: 0.7203544787082363\n",
      "Best hyperparameters: {'pre__k': 35, 'model__weights': 'distance', 'model__n_neighbors': 15}\n",
      " pre__k model__weights  model__n_neighbors  mean_test_score\n",
      "     25       distance                  10         0.718846\n",
      "     27        uniform                  15         0.746059\n",
      "     25       distance                   2         0.598007\n",
      "     38       distance                   5         0.736437\n",
      "     33        uniform                  15         0.748131\n",
      "     35       distance                   2         0.588508\n",
      "     35       distance                  15         0.749858\n",
      "     20       distance                  15         0.694003\n",
      "     33       distance                   7         0.748106\n",
      "     25        uniform                  20         0.730935\n",
      "=======================================\n",
      "KNeighborsClassifier Metrics:\n",
      "Accuracy: 0.75451450562463\n",
      "F1-score: 0.7243808135175314\n",
      "Best hyperparameters: {'pre__n_components': 20, 'model__weights': 'uniform', 'model__n_neighbors': 10}\n",
      " pre__n_components model__weights  model__n_neighbors  mean_test_score\n",
      "                 5       distance                   5         0.653098\n",
      "                 5       distance                  10         0.670762\n",
      "                10       distance                   5         0.698739\n",
      "                 5        uniform                  15         0.669454\n",
      "                10        uniform                  20         0.707547\n",
      "                 5        uniform                  20         0.672464\n",
      "                20        uniform                  10         0.746848\n",
      "                 5       distance                   2         0.615992\n",
      "                10       distance                  10         0.717144\n",
      "                 5       distance                  20         0.680729\n",
      "=======================================\n",
      "GaussianNB Metrics:\n",
      "Accuracy: 0.5985790408525755\n",
      "F1-score: 0.5707921790557929\n",
      "Best hyperparameters: {'pre__k': 38, 'model__var_smoothing': 1e-08}\n",
      " pre__k  model__var_smoothing  mean_test_score\n",
      "     38          1.000000e-05         0.610490\n",
      "     20          1.000000e-08         0.588237\n",
      "     25          1.000000e-09         0.584314\n",
      "     33          1.000000e-05         0.607924\n",
      "     20          1.000000e-07         0.588237\n",
      "     40          1.000000e-07         0.607258\n",
      "     38          1.000000e-08         0.610539\n",
      "     20          1.000000e-06         0.588237\n",
      "     25          1.000000e-05         0.584314\n",
      "     25          1.000000e-06         0.584314\n",
      "=======================================\n",
      "GaussianNB Metrics:\n",
      "Accuracy: 0.6590438129070456\n",
      "F1-score: 0.5419828124150649\n",
      "Best hyperparameters: {'pre__n_components': 10, 'model__var_smoothing': 1e-06}\n",
      " pre__n_components  model__var_smoothing  mean_test_score\n",
      "                10          1.000000e-06         0.663336\n",
      "                10          1.000000e-08         0.663213\n",
      "                20          1.000000e-07         0.655663\n",
      "                 5          1.000000e-09         0.659931\n",
      "                10          1.000000e-07         0.663237\n",
      "                 5          1.000000e-08         0.659931\n",
      "                20          1.000000e-09         0.655663\n",
      "                 5          1.000000e-06         0.659931\n",
      "                10          1.000000e-05         0.663237\n",
      "                20          1.000000e-08         0.655663\n",
      "=======================================\n"
     ]
    }
   ],
   "source": [
    "pipelines = []\n",
    "for model, model_params in models_to_params:\n",
    "    for pre, pre_params in pre_to_params:\n",
    "        pipeline = Pipeline(\n",
    "        [\n",
    "         ('pre',pre),\n",
    "         ('model',model)\n",
    "        ]\n",
    "        )\n",
    "        params = {**pre_params, **model_params}\n",
    "        clf = RandomizedSearchCV(estimator = pipeline, param_distributions = params, cv=5, scoring=\"accuracy\")\n",
    "        clf.fit(X_train, y_train)\n",
    "        y_pred = clf.predict(X_test)\n",
    "        print(str(model).split('(')[0], 'Metrics:')\n",
    "        model_accuracy_score = accuracy_score(y_test, y_pred)\n",
    "        print('Accuracy:', model_accuracy_score)\n",
    "        model_f1_score = f1_score(y_test, y_pred, average='weighted')\n",
    "        print('F1-score:', model_f1_score)\n",
    "        print('Best hyperparameters:', clf.best_params_)\n",
    "        \n",
    "        pipelines.append((model_accuracy_score, clf.best_estimator_))\n",
    "        \n",
    "        results = pd.DataFrame(clf.cv_results_['params'])\n",
    "        results['mean_test_score'] = clf.cv_results_['mean_test_score']\n",
    "        # print the results in a table format\n",
    "        print(results.to_string(index=False))\n",
    "        print('=======================================')"
   ]
  },
  {
   "cell_type": "markdown",
   "id": "f98c3f33",
   "metadata": {
    "papermill": {
     "duration": 0.018827,
     "end_time": "2023-05-07T15:55:02.423854",
     "exception": false,
     "start_time": "2023-05-07T15:55:02.405027",
     "status": "completed"
    },
    "tags": []
   },
   "source": [
    "# Building ensemble with top 3 estimators - Validation on validation set"
   ]
  },
  {
   "cell_type": "code",
   "execution_count": 9,
   "id": "dad4f0a7",
   "metadata": {
    "execution": {
     "iopub.execute_input": "2023-05-07T15:55:02.466479Z",
     "iopub.status.busy": "2023-05-07T15:55:02.465773Z",
     "iopub.status.idle": "2023-05-07T16:01:40.688734Z",
     "shell.execute_reply": "2023-05-07T16:01:40.687464Z"
    },
    "papermill": {
     "duration": 398.255045,
     "end_time": "2023-05-07T16:01:40.698877",
     "exception": false,
     "start_time": "2023-05-07T15:55:02.443832",
     "status": "completed"
    },
    "tags": []
   },
   "outputs": [
    {
     "name": "stdout",
     "output_type": "stream",
     "text": [
      "[('0', Pipeline(steps=[('pre',\n",
      "                 SelectKBest(k=35,\n",
      "                             score_func=<function f_regression at 0x73ecea4a9c20>)),\n",
      "                ('model',\n",
      "                 GradientBoostingClassifier(learning_rate=0.02, max_depth=8,\n",
      "                                            n_estimators=500, subsample=0.9))])), ('1', Pipeline(steps=[('pre',\n",
      "                 SelectKBest(k=33,\n",
      "                             score_func=<function f_regression at 0x73ecea4a9c20>)),\n",
      "                ('model', SVC(C=10))])), ('2', Pipeline(steps=[('pre',\n",
      "                 SelectKBest(k=35,\n",
      "                             score_func=<function f_regression at 0x73ecea4a9c20>)),\n",
      "                ('model',\n",
      "                 KNeighborsClassifier(n_neighbors=15, weights='distance'))]))]\n",
      "Accuracy: 0.8230461811722913\n",
      "F1-score: 0.7991925386083144\n"
     ]
    }
   ],
   "source": [
    "from sklearn.ensemble import VotingClassifier\n",
    "\n",
    "# the three best models\n",
    "sorted_pipelines = sorted(pipelines, key=lambda x: x[0], reverse=True)\n",
    "top_3_pipelines = [(str(i),x[1]) for i,x in enumerate(sorted_pipelines[:3])]\n",
    "print(top_3_pipelines)\n",
    "\n",
    "# Create the ensemble model using voting\n",
    "ensemble = VotingClassifier(estimators = top_3_pipelines, voting='hard')\n",
    "\n",
    "ensemble.fit(X_train, y_train)\n",
    "y_pred = ensemble.predict(X_test)\n",
    "\n",
    "print('Accuracy:', accuracy_score(y_test, y_pred))\n",
    "print('F1-score:', f1_score(y_test, y_pred, average='weighted'))"
   ]
  },
  {
   "cell_type": "markdown",
   "id": "b16c3c12",
   "metadata": {
    "papermill": {
     "duration": 0.008268,
     "end_time": "2023-05-07T16:01:40.715204",
     "exception": false,
     "start_time": "2023-05-07T16:01:40.706936",
     "status": "completed"
    },
    "tags": []
   },
   "source": [
    "# Applying ensemble on test set"
   ]
  },
  {
   "cell_type": "code",
   "execution_count": 10,
   "id": "073731df",
   "metadata": {
    "execution": {
     "iopub.execute_input": "2023-05-07T16:01:40.733706Z",
     "iopub.status.busy": "2023-05-07T16:01:40.733260Z",
     "iopub.status.idle": "2023-05-07T16:02:12.703986Z",
     "shell.execute_reply": "2023-05-07T16:02:12.702656Z"
    },
    "papermill": {
     "duration": 31.991096,
     "end_time": "2023-05-07T16:02:12.714669",
     "exception": false,
     "start_time": "2023-05-07T16:01:40.723573",
     "status": "completed"
    },
    "tags": []
   },
   "outputs": [
    {
     "name": "stdout",
     "output_type": "stream",
     "text": [
      "Accuracy: 0.8161634103019538\n",
      "F1-score: 0.7914272426866937\n"
     ]
    }
   ],
   "source": [
    "X_test_set = test.loc[:, train.columns != 'target']\n",
    "y_test_set =  test['target']\n",
    "\n",
    "y_pred = ensemble.predict(X_test_set)\n",
    "\n",
    "print('Accuracy:', accuracy_score(y_test_set, y_pred))\n",
    "print('F1-score:', f1_score(y_test_set, y_pred, average='weighted'))"
   ]
  }
 ],
 "metadata": {
  "kernelspec": {
   "display_name": "Python 3",
   "language": "python",
   "name": "python3"
  },
  "language_info": {
   "codemirror_mode": {
    "name": "ipython",
    "version": 3
   },
   "file_extension": ".py",
   "mimetype": "text/x-python",
   "name": "python",
   "nbconvert_exporter": "python",
   "pygments_lexer": "ipython3",
   "version": "3.7.12"
  },
  "papermill": {
   "default_parameters": {},
   "duration": 22870.366951,
   "end_time": "2023-05-07T16:02:13.695510",
   "environment_variables": {},
   "exception": null,
   "input_path": "__notebook__.ipynb",
   "output_path": "__notebook__.ipynb",
   "parameters": {},
   "start_time": "2023-05-07T09:41:03.328559",
   "version": "2.4.0"
  }
 },
 "nbformat": 4,
 "nbformat_minor": 5
}
