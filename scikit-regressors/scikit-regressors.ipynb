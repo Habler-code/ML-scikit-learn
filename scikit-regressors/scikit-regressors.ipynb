{
 "cells": [
  {
   "cell_type": "code",
   "execution_count": 20,
   "id": "ccde0976",
   "metadata": {
    "_cell_guid": "b1076dfc-b9ad-4769-8c92-a6c4dae69d19",
    "_uuid": "8f2839f25d086af736a60e9eeb907d3b93b6e0e5",
    "execution": {
     "iopub.execute_input": "2023-05-07T09:41:15.098446Z",
     "iopub.status.busy": "2023-05-07T09:41:15.098049Z",
     "iopub.status.idle": "2023-05-07T09:41:16.965915Z",
     "shell.execute_reply": "2023-05-07T09:41:16.964924Z"
    },
    "id": "ccde0976",
    "papermill": {
     "duration": 1.878137,
     "end_time": "2023-05-07T09:41:16.968660",
     "exception": false,
     "start_time": "2023-05-07T09:41:15.090523",
     "status": "completed"
    },
    "tags": []
   },
   "outputs": [],
   "source": [
    "import pandas as pd\n",
    "import matplotlib.pyplot as plt\n",
    "import numpy as np\n",
    "import seaborn as sns\n",
    "import matplotlib.colors as colors\n",
    "from sklearn.linear_model import LinearRegression\n",
    "from sklearn.ensemble import RandomForestRegressor\n",
    "from sklearn.impute import SimpleImputer\n",
    "from sklearn.preprocessing import StandardScaler\n",
    "import seaborn as sns\n",
    "from sklearn.model_selection import GridSearchCV, RandomizedSearchCV\n",
    "from sklearn.model_selection import train_test_split\n",
    "from sklearn.linear_model import LinearRegression, Ridge, Lasso, ElasticNet\n",
    "from sklearn.svm import SVR\n",
    "from sklearn.tree import DecisionTreeRegressor\n",
    "from sklearn.ensemble import RandomForestRegressor, GradientBoostingRegressor, AdaBoostRegressor\n",
    "from lightgbm import LGBMRegressor\n",
    "from xgboost import XGBRegressor\n",
    "from sklearn.ensemble import VotingRegressor\n",
    "\n",
    "\n",
    "from sklearn.metrics import *\n"
   ]
  },
  {
   "cell_type": "markdown",
   "id": "8227a549",
   "metadata": {
    "id": "8227a549",
    "papermill": {
     "duration": 0.004161,
     "end_time": "2023-05-07T09:41:16.977563",
     "exception": false,
     "start_time": "2023-05-07T09:41:16.973402",
     "status": "completed"
    },
    "tags": []
   },
   "source": [
    "# Loading Data, splitting into train, validation(dev) and test\n"
   ]
  },
  {
   "cell_type": "code",
   "execution_count": 21,
   "id": "a76a2d9f",
   "metadata": {
    "colab": {
     "base_uri": "https://localhost:8080/",
     "height": 206
    },
    "execution": {
     "iopub.execute_input": "2023-05-07T09:41:16.989362Z",
     "iopub.status.busy": "2023-05-07T09:41:16.988571Z",
     "iopub.status.idle": "2023-05-07T09:41:17.256437Z",
     "shell.execute_reply": "2023-05-07T09:41:17.255458Z"
    },
    "id": "a76a2d9f",
    "outputId": "2a9b110e-ccd4-4aa6-c05b-018c33893733",
    "papermill": {
     "duration": 0.276704,
     "end_time": "2023-05-07T09:41:17.258989",
     "exception": false,
     "start_time": "2023-05-07T09:41:16.982285",
     "status": "completed"
    },
    "tags": []
   },
   "outputs": [
    {
     "data": {
      "text/html": [
       "<div>\n",
       "<style scoped>\n",
       "    .dataframe tbody tr th:only-of-type {\n",
       "        vertical-align: middle;\n",
       "    }\n",
       "\n",
       "    .dataframe tbody tr th {\n",
       "        vertical-align: top;\n",
       "    }\n",
       "\n",
       "    .dataframe thead th {\n",
       "        text-align: right;\n",
       "    }\n",
       "</style>\n",
       "<table border=\"1\" class=\"dataframe\">\n",
       "  <thead>\n",
       "    <tr style=\"text-align: right;\">\n",
       "      <th></th>\n",
       "      <th>f0</th>\n",
       "      <th>f1</th>\n",
       "      <th>f2</th>\n",
       "      <th>f3</th>\n",
       "      <th>f4</th>\n",
       "      <th>f5</th>\n",
       "      <th>f6</th>\n",
       "      <th>f7</th>\n",
       "      <th>target</th>\n",
       "    </tr>\n",
       "  </thead>\n",
       "  <tbody>\n",
       "    <tr>\n",
       "      <th>0</th>\n",
       "      <td>4.0391</td>\n",
       "      <td>15.0</td>\n",
       "      <td>6.297710</td>\n",
       "      <td>0.992366</td>\n",
       "      <td>334.0</td>\n",
       "      <td>2.549618</td>\n",
       "      <td>32.72</td>\n",
       "      <td>-116.99</td>\n",
       "      <td>1.695</td>\n",
       "    </tr>\n",
       "    <tr>\n",
       "      <th>1</th>\n",
       "      <td>4.7241</td>\n",
       "      <td>46.0</td>\n",
       "      <td>5.375758</td>\n",
       "      <td>0.954545</td>\n",
       "      <td>753.0</td>\n",
       "      <td>2.281818</td>\n",
       "      <td>34.17</td>\n",
       "      <td>-118.10</td>\n",
       "      <td>2.796</td>\n",
       "    </tr>\n",
       "    <tr>\n",
       "      <th>2</th>\n",
       "      <td>3.3553</td>\n",
       "      <td>7.0</td>\n",
       "      <td>5.229213</td>\n",
       "      <td>1.101124</td>\n",
       "      <td>1304.0</td>\n",
       "      <td>2.930337</td>\n",
       "      <td>32.70</td>\n",
       "      <td>-117.01</td>\n",
       "      <td>1.322</td>\n",
       "    </tr>\n",
       "    <tr>\n",
       "      <th>3</th>\n",
       "      <td>1.3929</td>\n",
       "      <td>52.0</td>\n",
       "      <td>5.000000</td>\n",
       "      <td>0.953488</td>\n",
       "      <td>126.0</td>\n",
       "      <td>2.930233</td>\n",
       "      <td>37.92</td>\n",
       "      <td>-122.36</td>\n",
       "      <td>1.042</td>\n",
       "    </tr>\n",
       "    <tr>\n",
       "      <th>4</th>\n",
       "      <td>1.6006</td>\n",
       "      <td>52.0</td>\n",
       "      <td>4.427083</td>\n",
       "      <td>1.017361</td>\n",
       "      <td>1246.0</td>\n",
       "      <td>2.163194</td>\n",
       "      <td>34.07</td>\n",
       "      <td>-117.75</td>\n",
       "      <td>1.462</td>\n",
       "    </tr>\n",
       "  </tbody>\n",
       "</table>\n",
       "</div>"
      ],
      "text/plain": [
       "       f0    f1        f2        f3      f4        f5     f6      f7  target\n",
       "0  4.0391  15.0  6.297710  0.992366   334.0  2.549618  32.72 -116.99   1.695\n",
       "1  4.7241  46.0  5.375758  0.954545   753.0  2.281818  34.17 -118.10   2.796\n",
       "2  3.3553   7.0  5.229213  1.101124  1304.0  2.930337  32.70 -117.01   1.322\n",
       "3  1.3929  52.0  5.000000  0.953488   126.0  2.930233  37.92 -122.36   1.042\n",
       "4  1.6006  52.0  4.427083  1.017361  1246.0  2.163194  34.07 -117.75   1.462"
      ]
     },
     "execution_count": 21,
     "metadata": {},
     "output_type": "execute_result"
    }
   ],
   "source": [
    "ass3_pickle_file_path = r\"C:\\Users\\Administrator\\Downloads\\ass3.pickle\"\n",
    "# Load pickle file\n",
    "df = pd.read_pickle(ass3_pickle_file_path)\n",
    "train,dev,test = df['train'],df['dev'],df['test']\n",
    "train = train.reset_index(drop=True)\n",
    "train.head()"
   ]
  },
  {
   "cell_type": "code",
   "execution_count": 22,
   "id": "FKPKrVybDVLA",
   "metadata": {
    "colab": {
     "base_uri": "https://localhost:8080/",
     "height": 1000
    },
    "id": "FKPKrVybDVLA",
    "outputId": "7f900645-72b8-4437-dd48-4ccdbbd63f0a"
   },
   "outputs": [
    {
     "name": "stdout",
     "output_type": "stream",
     "text": [
      "Train Dataset Info:\n",
      "<class 'pandas.core.frame.DataFrame'>\n",
      "RangeIndex: 12384 entries, 0 to 12383\n",
      "Data columns (total 9 columns):\n",
      " #   Column  Non-Null Count  Dtype  \n",
      "---  ------  --------------  -----  \n",
      " 0   f0      12210 non-null  float64\n",
      " 1   f1      12244 non-null  float64\n",
      " 2   f2      12226 non-null  float64\n",
      " 3   f3      12228 non-null  float64\n",
      " 4   f4      12215 non-null  float64\n",
      " 5   f5      12242 non-null  float64\n",
      " 6   f6      12233 non-null  float64\n",
      " 7   f7      12236 non-null  float64\n",
      " 8   target  12384 non-null  float64\n",
      "dtypes: float64(9)\n",
      "memory usage: 870.9 KB\n",
      "None\n",
      "Train Null Value Counts:\n",
      "f0        174\n",
      "f1        140\n",
      "f2        158\n",
      "f3        156\n",
      "f4        169\n",
      "f5        142\n",
      "f6        151\n",
      "f7        148\n",
      "target      0\n",
      "dtype: int64\n",
      "\n",
      "Dev Dataset Info:\n",
      "<class 'pandas.core.frame.DataFrame'>\n",
      "Int64Index: 4128 entries, 1473 to 6192\n",
      "Data columns (total 9 columns):\n",
      " #   Column  Non-Null Count  Dtype  \n",
      "---  ------  --------------  -----  \n",
      " 0   f0      4128 non-null   float64\n",
      " 1   f1      4128 non-null   float64\n",
      " 2   f2      4128 non-null   float64\n",
      " 3   f3      4128 non-null   float64\n",
      " 4   f4      4128 non-null   float64\n",
      " 5   f5      4128 non-null   float64\n",
      " 6   f6      4128 non-null   float64\n",
      " 7   f7      4128 non-null   float64\n",
      " 8   target  4128 non-null   float64\n",
      "dtypes: float64(9)\n",
      "memory usage: 322.5 KB\n",
      "None\n",
      "Dev Null Value Counts:\n",
      "Dev has no Null Values\n",
      "\n",
      "Test Dataset Info:\n",
      "<class 'pandas.core.frame.DataFrame'>\n",
      "Int64Index: 4128 entries, 6111 to 11945\n",
      "Data columns (total 9 columns):\n",
      " #   Column  Non-Null Count  Dtype  \n",
      "---  ------  --------------  -----  \n",
      " 0   f0      4128 non-null   float64\n",
      " 1   f1      4128 non-null   float64\n",
      " 2   f2      4128 non-null   float64\n",
      " 3   f3      4128 non-null   float64\n",
      " 4   f4      4128 non-null   float64\n",
      " 5   f5      4128 non-null   float64\n",
      " 6   f6      4128 non-null   float64\n",
      " 7   f7      4128 non-null   float64\n",
      " 8   target  4128 non-null   float64\n",
      "dtypes: float64(9)\n",
      "memory usage: 322.5 KB\n",
      "None\n",
      "Test Null Value Counts:\n",
      "Test has no Null Values\n",
      "\n"
     ]
    },
    {
     "data": {
      "image/png": "[encoded data removed]",
      "text/plain": [
       "<Figure size 640x480 with 1 Axes>"
      ]
     },
     "metadata": {},
     "output_type": "display_data"
    },
    {
     "data": {
      "image/png": "[encoded data removed]",
      "text/plain": [
       "<Figure size 640x480 with 1 Axes>"
      ]
     },
     "metadata": {},
     "output_type": "display_data"
    }
   ],
   "source": [
    "datasets = [(\"Train\", train), (\"Dev\", dev), (\"Test\", test)]\n",
    "\n",
    "sizes = []\n",
    "null_counts = []\n",
    "\n",
    "for dataset_name, dataset in datasets:\n",
    "    sizes.append(len(dataset))\n",
    "    null_counts.append(dataset.isnull().sum().sum())\n",
    "\n",
    "    print(f\"{dataset_name} Dataset Info:\")\n",
    "    print(dataset.info())\n",
    "\n",
    "    print(f\"{dataset_name} Null Value Counts:\")\n",
    "    if null_counts[-1] == 0:\n",
    "        print(f'{dataset_name} has no Null Values')\n",
    "    else:\n",
    "        print(dataset.isnull().sum())\n",
    "    print()\n",
    "\n",
    "# Plot the size of each dataset\n",
    "plt.bar([dataset[0] for dataset in datasets], sizes)\n",
    "plt.xlabel(\"Dataset\")\n",
    "plt.ylabel(\"Size\")\n",
    "plt.title(\"Size of Datasets\")\n",
    "plt.show()\n",
    "\n",
    "# Plot the null value counts of each dataset\n",
    "plt.bar([dataset[0] for dataset in datasets], null_counts)\n",
    "plt.xlabel(\"Dataset\")\n",
    "plt.ylabel(\"Null Value Count\")\n",
    "plt.title(\"Null Value Counts of Datasets\")\n",
    "plt.show()"
   ]
  },
  {
   "cell_type": "markdown",
   "id": "30OTxqTbFzAE",
   "metadata": {
    "id": "30OTxqTbFzAE"
   },
   "source": [
    "# Check how Nan values varies"
   ]
  },
  {
   "cell_type": "code",
   "execution_count": 23,
   "id": "1P1gBk28FYgu",
   "metadata": {
    "colab": {
     "base_uri": "https://localhost:8080/",
     "height": 535
    },
    "id": "1P1gBk28FYgu",
    "outputId": "a3847417-b217-4f87-faf5-b62a4c1f3da5"
   },
   "outputs": [
    {
     "name": "stdout",
     "output_type": "stream",
     "text": [
      "Number of unique samples with NaN values: 1238\n"
     ]
    },
    {
     "data": {
      "image/png": "[encoded data removed]",
      "text/plain": [
       "<Figure size 640x480 with 1 Axes>"
      ]
     },
     "metadata": {},
     "output_type": "display_data"
    },
    {
     "name": "stdout",
     "output_type": "stream",
     "text": [
      "Percentage of samples with NaN values: 9.996770025839794\n"
     ]
    }
   ],
   "source": [
    "nan_samples = train[train.isnull().any(axis=1)].drop_duplicates().shape[0]\n",
    "\n",
    "# Print the count of unique samples with NaN values\n",
    "print(\"Number of unique samples with NaN values:\", nan_samples)\n",
    "\n",
    "import pandas as pd\n",
    "import matplotlib.pyplot as plt\n",
    "\n",
    "# Assuming you have a DataFrame named \"train\"\n",
    "# Calculate the number of NaN samples for each feature\n",
    "nan_counts = train.isnull().sum()\n",
    "\n",
    "# Plot the number of NaN samples for each feature\n",
    "nan_counts.plot(kind='bar')\n",
    "plt.xlabel(\"Features\")\n",
    "plt.ylabel(\"Number of NaN Samples\")\n",
    "plt.title(\"Number of NaN Samples for Each Feature\")\n",
    "plt.show()\n",
    "\n",
    "# Calculate the percentage of samples with NaN values\n",
    "percentage_nan_samples = (train.isnull().any(axis=1).sum() / len(train)) * 100\n",
    "\n",
    "# Print the percentage of samples with NaN values\n",
    "print(\"Percentage of samples with NaN values:\", percentage_nan_samples)\n",
    "\n"
   ]
  },
  {
   "cell_type": "markdown",
   "id": "S9ZDUZ90GjTh",
   "metadata": {
    "id": "S9ZDUZ90GjTh"
   },
   "source": [
    "# As allmost 10% of the Train dataset contains Nans, We will not remove the samples but handle them using sklearn Imputer"
   ]
  },
  {
   "cell_type": "code",
   "execution_count": 24,
   "id": "WCqG6iFVHWHx",
   "metadata": {
    "id": "WCqG6iFVHWHx"
   },
   "outputs": [],
   "source": [
    "\n",
    "imputer = SimpleImputer(strategy='mean')\n",
    "imputer.fit(train)\n",
    "train_imputed = pd.DataFrame(imputer.transform(train), columns=train.columns)\n",
    "train = train_imputed"
   ]
  },
  {
   "cell_type": "code",
   "execution_count": 25,
   "id": "RDO-85W3_jjV",
   "metadata": {
    "colab": {
     "base_uri": "https://localhost:8080/",
     "height": 759
    },
    "id": "RDO-85W3_jjV",
    "outputId": "92b363ab-7b88-48e8-efd7-382ce8e97a31"
   },
   "outputs": [
    {
     "data": {
      "text/plain": [
       "<AxesSubplot:>"
      ]
     },
     "execution_count": 25,
     "metadata": {},
     "output_type": "execute_result"
    },
    {
     "data": {
      "image/png": "[encoded data removed]",
      "text/plain": [
       "<Figure size 1100x900 with 2 Axes>"
      ]
     },
     "metadata": {},
     "output_type": "display_data"
    }
   ],
   "source": [
    "corr = train_imputed.corr()\n",
    "mask = np.triu(np.ones_like(corr, dtype=bool))\n",
    "sns.set_style(style = 'white')\n",
    "f, ax = plt.subplots(figsize=(11, 9))\n",
    "cmap = sns.diverging_palette(10, 250, as_cmap=True)\n",
    "sns.heatmap(corr, mask=mask, cmap=cmap, \n",
    "        square=True,\n",
    "        linewidths=.5, cbar_kws={\"shrink\": .5}, ax=ax)"
   ]
  },
  {
   "cell_type": "markdown",
   "id": "oGYfk1PIASXz",
   "metadata": {
    "id": "oGYfk1PIASXz"
   },
   "source": [
    "#Detect strong correlations\n"
   ]
  },
  {
   "cell_type": "code",
   "execution_count": 26,
   "id": "4401526c",
   "metadata": {
    "colab": {
     "base_uri": "https://localhost:8080/",
     "height": 944
    },
    "execution": {
     "iopub.execute_input": "2023-05-07T09:41:17.271018Z",
     "iopub.status.busy": "2023-05-07T09:41:17.269968Z",
     "iopub.status.idle": "2023-05-07T09:41:17.499798Z",
     "shell.execute_reply": "2023-05-07T09:41:17.498535Z"
    },
    "id": "4401526c",
    "outputId": "832fdc2b-5b94-4aaf-deea-f1578d120d69",
    "papermill": {
     "duration": 0.238406,
     "end_time": "2023-05-07T09:41:17.502351",
     "exception": false,
     "start_time": "2023-05-07T09:41:17.263945",
     "status": "completed"
    },
    "tags": []
   },
   "outputs": [
    {
     "data": {
      "image/png": "[encoded data removed]",
      "text/plain": [
       "<Figure size 640x480 with 1 Axes>"
      ]
     },
     "metadata": {},
     "output_type": "display_data"
    },
    {
     "data": {
      "image/png": "[encoded data removed]",
      "text/plain": [
       "<Figure size 640x480 with 1 Axes>"
      ]
     },
     "metadata": {},
     "output_type": "display_data"
    },
    {
     "name": "stdout",
     "output_type": "stream",
     "text": [
      "Strong pair might be removed or merged in some way\n"
     ]
    }
   ],
   "source": [
    "threshold = 0.8\n",
    "\n",
    "strong_correlations = [(f1, f2, correlation)\n",
    "                       for i, f1 in enumerate(corr.columns)\n",
    "                       for j, f2 in enumerate(corr.columns[i+1:], start=i+1)\n",
    "                       if abs(correlation := corr.iloc[i, j]) > threshold]\n",
    "\n",
    "# Find the strong correlations pairs\n",
    "for feature1, feature2, correlation in strong_correlations:\n",
    "    plt.scatter(train[feature1], train[feature2])\n",
    "    plt.xlabel(feature1)\n",
    "    plt.ylabel(feature2)\n",
    "    plt.title(f\"Correlation: {correlation:.2f}\")\n",
    "    plt.show()\n",
    "\n",
    "print('Strong pair might be removed or merged in some way')"
   ]
  },
  {
   "cell_type": "markdown",
   "id": "48056931",
   "metadata": {
    "id": "48056931",
    "papermill": {
     "duration": 0.005921,
     "end_time": "2023-05-07T09:41:18.932817",
     "exception": false,
     "start_time": "2023-05-07T09:41:18.926896",
     "status": "completed"
    },
    "tags": []
   },
   "source": [
    "# Train, Validation and Test Sepearion"
   ]
  },
  {
   "cell_type": "code",
   "execution_count": 27,
   "id": "73c39ae4",
   "metadata": {
    "execution": {
     "iopub.execute_input": "2023-05-07T09:41:18.946830Z",
     "iopub.status.busy": "2023-05-07T09:41:18.946391Z",
     "iopub.status.idle": "2023-05-07T09:41:18.964536Z",
     "shell.execute_reply": "2023-05-07T09:41:18.963383Z"
    },
    "id": "73c39ae4",
    "papermill": {
     "duration": 0.028445,
     "end_time": "2023-05-07T09:41:18.967329",
     "exception": false,
     "start_time": "2023-05-07T09:41:18.938884",
     "status": "completed"
    },
    "tags": []
   },
   "outputs": [],
   "source": [
    "X_train, X_validation = train.loc[:, train.columns != 'target'] ,dev.loc[:, dev.columns != 'target']\n",
    "y_train, y_validation =  train['target'], dev['target']\n",
    "X_test  = test.loc[:, test.columns != 'target'] \n",
    "y_test =  test['target']\n"
   ]
  },
  {
   "cell_type": "markdown",
   "id": "aKRVqd99qHui",
   "metadata": {
    "id": "aKRVqd99qHui"
   },
   "source": [
    "# Scale Features\n",
    "Some regressors may benefit from feature normalization to improve their performance and some regularization techniques, such as Lasso or Ridge regularization, assume that the features are on a similar scale."
   ]
  },
  {
   "cell_type": "code",
   "execution_count": 28,
   "id": "xI0UK-tVqG5z",
   "metadata": {
    "id": "xI0UK-tVqG5z"
   },
   "outputs": [],
   "source": [
    "\n",
    "scaler = StandardScaler()\n",
    "scaler.fit(X_train)\n",
    "# Transform features\n",
    "X_train = scaler.transform(X_train)\n",
    "X_validation = scaler.transform(X_validation)\n",
    "X_test = scaler.transform(X_test)\n"
   ]
  },
  {
   "cell_type": "markdown",
   "id": "b1a91332",
   "metadata": {
    "id": "b1a91332",
    "papermill": {
     "duration": 0.005759,
     "end_time": "2023-05-07T09:41:18.979262",
     "exception": false,
     "start_time": "2023-05-07T09:41:18.973503",
     "status": "completed"
    },
    "tags": []
   },
   "source": [
    "# Training RF regressor and validation top feature importance\n",
    "\n",
    "\n"
   ]
  },
  {
   "cell_type": "code",
   "execution_count": 29,
   "id": "F3HlBlAePAOj",
   "metadata": {
    "id": "F3HlBlAePAOj"
   },
   "outputs": [
    {
     "data": {
      "image/png": "[encoded data removed]",
      "text/plain": [
       "<Figure size 1000x800 with 1 Axes>"
      ]
     },
     "metadata": {},
     "output_type": "display_data"
    }
   ],
   "source": [
    "# Fitting the model\n",
    "model = RandomForestRegressor(n_estimators=500, n_jobs=-1, random_state=100)\n",
    "model.fit(X_train, y_train)\n",
    "# Plotting feature importances\n",
    "features = train.drop('target', axis=1).columns\n",
    "importances = model.feature_importances_\n",
    "indices = np.argsort(importances)\n",
    "plt.figure(figsize=(10, 8))\n",
    "plt.title('Feature Importances')\n",
    "plt.barh(range(len(indices)), importances[indices], color='g', align='center')\n",
    "plt.yticks(range(len(indices)), [features[i] for i in indices])\n",
    "plt.xlabel('Relative Importance')\n",
    "\n",
    "plt.tight_layout()\n",
    "plt.show()\n"
   ]
  },
  {
   "cell_type": "markdown",
   "id": "879c6a3f",
   "metadata": {
    "id": "879c6a3f",
    "papermill": {
     "duration": 0.007179,
     "end_time": "2023-05-07T09:41:30.525169",
     "exception": false,
     "start_time": "2023-05-07T09:41:30.517990",
     "status": "completed"
    },
    "tags": []
   },
   "source": [
    "# Defining different models and hyper params"
   ]
  },
  {
   "cell_type": "code",
   "execution_count": 30,
   "id": "wjNclsxgPz-U",
   "metadata": {
    "id": "wjNclsxgPz-U"
   },
   "outputs": [],
   "source": [
    "\n",
    "regressors = [\n",
    "    LinearRegression(),\n",
    "    Ridge(),\n",
    "    Lasso(),\n",
    "    ElasticNet(),\n",
    "    SVR(),\n",
    "    DecisionTreeRegressor(),\n",
    "    RandomForestRegressor(),\n",
    "    GradientBoostingRegressor(),\n",
    "    AdaBoostRegressor(),\n",
    "    LGBMRegressor(),\n",
    "    XGBRegressor()\n",
    "]\n",
    "\n",
    "\n"
   ]
  },
  {
   "cell_type": "markdown",
   "id": "b80FV2dYmyhB",
   "metadata": {
    "id": "b80FV2dYmyhB"
   },
   "source": [
    "# 1.Run expirment, use Train for training, Dev for validation.\n",
    "# 2.Use GridSearchCV for hyperParam assessment \n",
    "# 3.Use MSE metric to choose the Best Model\n",
    "# 4.Build an Ensemble using top 3 models\n",
    "\n",
    "-----------------------------------------\n",
    "\n",
    "Hyper Params explained\n",
    "\n",
    "**solver** (used for Ridge Regression): \n",
    "\n",
    "Determines the optimization algorithm used.\n",
    "\n",
    "**selection** (used for both Lasso, ElasticNet): \n",
    "\n",
    "Controls how coefficients are selected.\n",
    "\n",
    "**gamma** (used for SVR): \n",
    "\n",
    "Determines the kernel coefficient for certain kernels.\n",
    "\n",
    "**min_samples_split** (used for both DecisionTreeRegressor, RandomForestRegressor):\n",
    "\n",
    " Specifies the minimum number of samples needed to split a node.\n",
    "\n",
    "learning_rate (used for both GradientBoostingRegressor, AdaBoostRegressor): \n",
    "\n",
    "Controls the step size during boosting iterations.\n"
   ]
  },
  {
   "cell_type": "code",
   "execution_count": 31,
   "id": "e5e4c1c6",
   "metadata": {
    "execution": {
     "iopub.execute_input": "2023-05-07T09:41:30.540919Z",
     "iopub.status.busy": "2023-05-07T09:41:30.540479Z",
     "iopub.status.idle": "2023-05-07T09:41:30.550491Z",
     "shell.execute_reply": "2023-05-07T09:41:30.549146Z"
    },
    "id": "e5e4c1c6",
    "papermill": {
     "duration": 0.020768,
     "end_time": "2023-05-07T09:41:30.552909",
     "exception": false,
     "start_time": "2023-05-07T09:41:30.532141",
     "status": "completed"
    },
    "tags": []
   },
   "outputs": [
    {
     "name": "stdout",
     "output_type": "stream",
     "text": [
      "Fitting 5 folds for each of 1 candidates, totalling 5 fits\n",
      "[CV] END .................................................... total time=   0.0s\n",
      "[CV] END .................................................... total time=   0.0s\n",
      "[CV] END .................................................... total time=   0.0s\n",
      "[CV] END .................................................... total time=   0.0s\n",
      "[CV] END .................................................... total time=   0.0s\n",
      "Fitting 5 folds for each of 4 candidates, totalling 20 fits\n",
      "[CV] END ..........................................alpha=0.1; total time=   0.0s\n",
      "[CV] END ..........................................alpha=0.1; total time=   0.0s\n",
      "[CV] END ..........................................alpha=0.1; total time=   0.0s\n",
      "[CV] END ..........................................alpha=0.1; total time=   0.0s\n",
      "[CV] END ..........................................alpha=0.1; total time=   0.0s\n",
      "[CV] END ..........................................alpha=1.0; total time=   0.0s\n",
      "[CV] END ..........................................alpha=1.0; total time=   0.0s\n",
      "[CV] END ..........................................alpha=1.0; total time=   0.0s\n",
      "[CV] END ..........................................alpha=1.0; total time=   0.0s\n",
      "[CV] END ..........................................alpha=1.0; total time=   0.0s\n",
      "[CV] END ..........................................alpha=5.0; total time=   0.0s\n",
      "[CV] END ..........................................alpha=5.0; total time=   0.0s\n",
      "[CV] END ..........................................alpha=5.0; total time=   0.0s\n",
      "[CV] END ..........................................alpha=5.0; total time=   0.0s\n",
      "[CV] END ..........................................alpha=5.0; total time=   0.0s\n",
      "[CV] END .........................................alpha=10.0; total time=   0.0s\n",
      "[CV] END .........................................alpha=10.0; total time=   0.0s\n",
      "[CV] END .........................................alpha=10.0; total time=   0.0s\n",
      "[CV] END .........................................alpha=10.0; total time=   0.0s\n",
      "[CV] END .........................................alpha=10.0; total time=   0.0s\n",
      "Fitting 5 folds for each of 4 candidates, totalling 20 fits\n",
      "[CV] END ..........................................alpha=0.1; total time=   0.0s\n",
      "[CV] END ..........................................alpha=0.1; total time=   0.0s\n",
      "[CV] END ..........................................alpha=0.1; total time=   0.0s\n",
      "[CV] END ..........................................alpha=0.1; total time=   0.0s\n",
      "[CV] END ..........................................alpha=0.1; total time=   0.0s\n",
      "[CV] END ..........................................alpha=1.0; total time=   0.0s\n",
      "[CV] END ..........................................alpha=1.0; total time=   0.0s\n",
      "[CV] END ..........................................alpha=1.0; total time=   0.0s\n",
      "[CV] END ..........................................alpha=1.0; total time=   0.0s\n",
      "[CV] END ..........................................alpha=1.0; total time=   0.0s\n",
      "[CV] END ..........................................alpha=5.0; total time=   0.0s\n",
      "[CV] END ..........................................alpha=5.0; total time=   0.0s\n",
      "[CV] END ..........................................alpha=5.0; total time=   0.0s\n",
      "[CV] END ..........................................alpha=5.0; total time=   0.0s\n",
      "[CV] END ..........................................alpha=5.0; total time=   0.0s\n",
      "[CV] END .........................................alpha=10.0; total time=   0.0s\n",
      "[CV] END .........................................alpha=10.0; total time=   0.0s\n",
      "[CV] END .........................................alpha=10.0; total time=   0.0s\n",
      "[CV] END .........................................alpha=10.0; total time=   0.0s\n",
      "[CV] END .........................................alpha=10.0; total time=   0.0s\n",
      "Fitting 5 folds for each of 12 candidates, totalling 60 fits\n",
      "[CV] END ...........................alpha=0.1, l1_ratio=0.25; total time=   0.0s\n",
      "[CV] END ...........................alpha=0.1, l1_ratio=0.25; total time=   0.0s\n",
      "[CV] END ...........................alpha=0.1, l1_ratio=0.25; total time=   0.0s\n",
      "[CV] END ...........................alpha=0.1, l1_ratio=0.25; total time=   0.0s\n",
      "[CV] END ...........................alpha=0.1, l1_ratio=0.25; total time=   0.0s\n",
      "[CV] END ............................alpha=0.1, l1_ratio=0.5; total time=   0.0s\n",
      "[CV] END ............................alpha=0.1, l1_ratio=0.5; total time=   0.0s\n",
      "[CV] END ............................alpha=0.1, l1_ratio=0.5; total time=   0.0s\n",
      "[CV] END ............................alpha=0.1, l1_ratio=0.5; total time=   0.0s\n",
      "[CV] END ............................alpha=0.1, l1_ratio=0.5; total time=   0.0s\n",
      "[CV] END ...........................alpha=0.1, l1_ratio=0.75; total time=   0.0s\n",
      "[CV] END ...........................alpha=0.1, l1_ratio=0.75; total time=   0.0s\n",
      "[CV] END ...........................alpha=0.1, l1_ratio=0.75; total time=   0.0s\n",
      "[CV] END ...........................alpha=0.1, l1_ratio=0.75; total time=   0.0s\n",
      "[CV] END ...........................alpha=0.1, l1_ratio=0.75; total time=   0.0s\n",
      "[CV] END ...........................alpha=1.0, l1_ratio=0.25; total time=   0.0s\n",
      "[CV] END ...........................alpha=1.0, l1_ratio=0.25; total time=   0.0s\n",
      "[CV] END ...........................alpha=1.0, l1_ratio=0.25; total time=   0.0s\n",
      "[CV] END ...........................alpha=1.0, l1_ratio=0.25; total time=   0.0s\n",
      "[CV] END ...........................alpha=1.0, l1_ratio=0.25; total time=   0.0s\n",
      "[CV] END ............................alpha=1.0, l1_ratio=0.5; total time=   0.0s\n",
      "[CV] END ............................alpha=1.0, l1_ratio=0.5; total time=   0.0s\n",
      "[CV] END ............................alpha=1.0, l1_ratio=0.5; total time=   0.0s\n",
      "[CV] END ............................alpha=1.0, l1_ratio=0.5; total time=   0.0s\n",
      "[CV] END ............................alpha=1.0, l1_ratio=0.5; total time=   0.0s\n",
      "[CV] END ...........................alpha=1.0, l1_ratio=0.75; total time=   0.0s\n",
      "[CV] END ...........................alpha=1.0, l1_ratio=0.75; total time=   0.0s\n",
      "[CV] END ...........................alpha=1.0, l1_ratio=0.75; total time=   0.0s\n",
      "[CV] END ...........................alpha=1.0, l1_ratio=0.75; total time=   0.0s\n",
      "[CV] END ...........................alpha=1.0, l1_ratio=0.75; total time=   0.0s\n",
      "[CV] END ...........................alpha=5.0, l1_ratio=0.25; total time=   0.0s\n",
      "[CV] END ...........................alpha=5.0, l1_ratio=0.25; total time=   0.0s\n",
      "[CV] END ...........................alpha=5.0, l1_ratio=0.25; total time=   0.0s\n",
      "[CV] END ...........................alpha=5.0, l1_ratio=0.25; total time=   0.0s\n",
      "[CV] END ...........................alpha=5.0, l1_ratio=0.25; total time=   0.0s\n",
      "[CV] END ............................alpha=5.0, l1_ratio=0.5; total time=   0.0s\n",
      "[CV] END ............................alpha=5.0, l1_ratio=0.5; total time=   0.0s\n",
      "[CV] END ............................alpha=5.0, l1_ratio=0.5; total time=   0.0s\n",
      "[CV] END ............................alpha=5.0, l1_ratio=0.5; total time=   0.0s\n",
      "[CV] END ............................alpha=5.0, l1_ratio=0.5; total time=   0.0s\n",
      "[CV] END ...........................alpha=5.0, l1_ratio=0.75; total time=   0.0s\n",
      "[CV] END ...........................alpha=5.0, l1_ratio=0.75; total time=   0.0s\n",
      "[CV] END ...........................alpha=5.0, l1_ratio=0.75; total time=   0.0s\n",
      "[CV] END ...........................alpha=5.0, l1_ratio=0.75; total time=   0.0s\n",
      "[CV] END ...........................alpha=5.0, l1_ratio=0.75; total time=   0.0s\n",
      "[CV] END ..........................alpha=10.0, l1_ratio=0.25; total time=   0.0s\n",
      "[CV] END ..........................alpha=10.0, l1_ratio=0.25; total time=   0.0s\n",
      "[CV] END ..........................alpha=10.0, l1_ratio=0.25; total time=   0.0s\n",
      "[CV] END ..........................alpha=10.0, l1_ratio=0.25; total time=   0.0s\n",
      "[CV] END ..........................alpha=10.0, l1_ratio=0.25; total time=   0.0s\n",
      "[CV] END ...........................alpha=10.0, l1_ratio=0.5; total time=   0.0s\n",
      "[CV] END ...........................alpha=10.0, l1_ratio=0.5; total time=   0.0s\n",
      "[CV] END ...........................alpha=10.0, l1_ratio=0.5; total time=   0.0s\n",
      "[CV] END ...........................alpha=10.0, l1_ratio=0.5; total time=   0.0s\n",
      "[CV] END ...........................alpha=10.0, l1_ratio=0.5; total time=   0.0s\n",
      "[CV] END ..........................alpha=10.0, l1_ratio=0.75; total time=   0.0s\n",
      "[CV] END ..........................alpha=10.0, l1_ratio=0.75; total time=   0.0s\n",
      "[CV] END ..........................alpha=10.0, l1_ratio=0.75; total time=   0.0s\n",
      "[CV] END ..........................alpha=10.0, l1_ratio=0.75; total time=   0.0s\n",
      "[CV] END ..........................alpha=10.0, l1_ratio=0.75; total time=   0.0s\n",
      "Fitting 5 folds for each of 6 candidates, totalling 30 fits\n",
      "[CV] END ...............................C=0.1, kernel=linear; total time=   3.0s\n",
      "[CV] END ...............................C=0.1, kernel=linear; total time=   3.1s\n",
      "[CV] END ...............................C=0.1, kernel=linear; total time=   3.1s\n",
      "[CV] END ...............................C=0.1, kernel=linear; total time=   2.9s\n",
      "[CV] END ...............................C=0.1, kernel=linear; total time=   3.1s\n",
      "[CV] END ..................................C=0.1, kernel=rbf; total time=   4.7s\n",
      "[CV] END ..................................C=0.1, kernel=rbf; total time=   4.6s\n",
      "[CV] END ..................................C=0.1, kernel=rbf; total time=   4.6s\n",
      "[CV] END ..................................C=0.1, kernel=rbf; total time=   4.6s\n",
      "[CV] END ..................................C=0.1, kernel=rbf; total time=   4.5s\n",
      "[CV] END ...............................C=1.0, kernel=linear; total time=   6.8s\n",
      "[CV] END ...............................C=1.0, kernel=linear; total time=   6.2s\n",
      "[CV] END ...............................C=1.0, kernel=linear; total time=   8.5s\n",
      "[CV] END ...............................C=1.0, kernel=linear; total time=   7.4s\n",
      "[CV] END ...............................C=1.0, kernel=linear; total time=   6.7s\n",
      "[CV] END ..................................C=1.0, kernel=rbf; total time=   4.8s\n",
      "[CV] END ..................................C=1.0, kernel=rbf; total time=   4.7s\n",
      "[CV] END ..................................C=1.0, kernel=rbf; total time=   4.5s\n",
      "[CV] END ..................................C=1.0, kernel=rbf; total time=   4.6s\n",
      "[CV] END ..................................C=1.0, kernel=rbf; total time=   4.6s\n",
      "[CV] END ..............................C=10.0, kernel=linear; total time=  40.7s\n",
      "[CV] END ..............................C=10.0, kernel=linear; total time=  29.1s\n",
      "[CV] END ..............................C=10.0, kernel=linear; total time=  38.0s\n",
      "[CV] END ..............................C=10.0, kernel=linear; total time=  28.7s\n",
      "[CV] END ..............................C=10.0, kernel=linear; total time=  30.7s\n",
      "[CV] END .................................C=10.0, kernel=rbf; total time=   6.4s\n",
      "[CV] END .................................C=10.0, kernel=rbf; total time=   6.3s\n",
      "[CV] END .................................C=10.0, kernel=rbf; total time=   6.5s\n",
      "[CV] END .................................C=10.0, kernel=rbf; total time=   6.3s\n",
      "[CV] END .................................C=10.0, kernel=rbf; total time=   6.3s\n",
      "Fitting 5 folds for each of 3 candidates, totalling 15 fits\n",
      "[CV] END .....................................max_depth=None; total time=   0.0s\n",
      "[CV] END .....................................max_depth=None; total time=   0.0s\n",
      "[CV] END .....................................max_depth=None; total time=   0.0s\n",
      "[CV] END .....................................max_depth=None; total time=   0.0s\n",
      "[CV] END .....................................max_depth=None; total time=   0.0s\n",
      "[CV] END ........................................max_depth=5; total time=   0.0s\n",
      "[CV] END ........................................max_depth=5; total time=   0.0s\n",
      "[CV] END ........................................max_depth=5; total time=   0.0s\n",
      "[CV] END ........................................max_depth=5; total time=   0.0s\n",
      "[CV] END ........................................max_depth=5; total time=   0.0s\n",
      "[CV] END .......................................max_depth=10; total time=   0.0s\n",
      "[CV] END .......................................max_depth=10; total time=   0.0s\n",
      "[CV] END .......................................max_depth=10; total time=   0.0s\n",
      "[CV] END .......................................max_depth=10; total time=   0.0s\n",
      "[CV] END .......................................max_depth=10; total time=   0.0s\n",
      "Fitting 5 folds for each of 9 candidates, totalling 45 fits\n",
      "[CV] END ...................max_depth=None, n_estimators=100; total time=   9.3s\n",
      "[CV] END ...................max_depth=None, n_estimators=100; total time=   9.3s\n",
      "[CV] END ...................max_depth=None, n_estimators=100; total time=   9.2s\n",
      "[CV] END ...................max_depth=None, n_estimators=100; total time=   9.3s\n",
      "[CV] END ...................max_depth=None, n_estimators=100; total time=   9.2s\n",
      "[CV] END ...................max_depth=None, n_estimators=300; total time=  27.8s\n",
      "[CV] END ...................max_depth=None, n_estimators=300; total time=  27.8s\n",
      "[CV] END ...................max_depth=None, n_estimators=300; total time=  28.2s\n",
      "[CV] END ...................max_depth=None, n_estimators=300; total time=  28.1s\n",
      "[CV] END ...................max_depth=None, n_estimators=300; total time=  28.2s\n",
      "[CV] END ...................max_depth=None, n_estimators=500; total time= 4.0min\n",
      "[CV] END ...................max_depth=None, n_estimators=500; total time=  46.4s\n",
      "[CV] END ...................max_depth=None, n_estimators=500; total time=  46.6s\n",
      "[CV] END ...................max_depth=None, n_estimators=500; total time=  46.8s\n",
      "[CV] END ...................max_depth=None, n_estimators=500; total time=  46.7s\n",
      "[CV] END ......................max_depth=5, n_estimators=100; total time=   2.8s\n",
      "[CV] END ......................max_depth=5, n_estimators=100; total time=   2.8s\n",
      "[CV] END ......................max_depth=5, n_estimators=100; total time=   2.8s\n",
      "[CV] END ......................max_depth=5, n_estimators=100; total time=   2.8s\n",
      "[CV] END ......................max_depth=5, n_estimators=100; total time=   2.8s\n",
      "[CV] END ......................max_depth=5, n_estimators=300; total time=   8.6s\n",
      "[CV] END ......................max_depth=5, n_estimators=300; total time=   8.7s\n",
      "[CV] END ......................max_depth=5, n_estimators=300; total time=   8.7s\n",
      "[CV] END ......................max_depth=5, n_estimators=300; total time=   8.6s\n",
      "[CV] END ......................max_depth=5, n_estimators=300; total time=   8.6s\n",
      "[CV] END ......................max_depth=5, n_estimators=500; total time=  14.3s\n",
      "[CV] END ......................max_depth=5, n_estimators=500; total time=  14.4s\n",
      "[CV] END ......................max_depth=5, n_estimators=500; total time= 6.9min\n",
      "[CV] END ......................max_depth=5, n_estimators=500; total time=  15.6s\n",
      "[CV] END ......................max_depth=5, n_estimators=500; total time=  14.5s\n",
      "[CV] END .....................max_depth=10, n_estimators=100; total time=   5.6s\n",
      "[CV] END .....................max_depth=10, n_estimators=100; total time=   5.5s\n",
      "[CV] END .....................max_depth=10, n_estimators=100; total time=   5.5s\n",
      "[CV] END .....................max_depth=10, n_estimators=100; total time=   5.6s\n",
      "[CV] END .....................max_depth=10, n_estimators=100; total time=   5.7s\n",
      "[CV] END .....................max_depth=10, n_estimators=300; total time=  16.8s\n",
      "[CV] END .....................max_depth=10, n_estimators=300; total time=  16.7s\n",
      "[CV] END .....................max_depth=10, n_estimators=300; total time=  16.7s\n",
      "[CV] END .....................max_depth=10, n_estimators=300; total time=  16.8s\n",
      "[CV] END .....................max_depth=10, n_estimators=300; total time=  16.7s\n",
      "[CV] END .....................max_depth=10, n_estimators=500; total time=  28.0s\n",
      "[CV] END .....................max_depth=10, n_estimators=500; total time=  28.1s\n",
      "[CV] END .....................max_depth=10, n_estimators=500; total time=  28.1s\n",
      "[CV] END .....................max_depth=10, n_estimators=500; total time=  28.3s\n",
      "[CV] END .....................max_depth=10, n_estimators=500; total time=  28.2s\n",
      "Fitting 5 folds for each of 6 candidates, totalling 30 fits\n",
      "[CV] END ................learning_rate=0.1, n_estimators=100; total time=   2.6s\n",
      "[CV] END ................learning_rate=0.1, n_estimators=100; total time=   2.5s\n",
      "[CV] END ................learning_rate=0.1, n_estimators=100; total time=   2.5s\n",
      "[CV] END ................learning_rate=0.1, n_estimators=100; total time=   2.5s\n",
      "[CV] END ................learning_rate=0.1, n_estimators=100; total time=   2.5s\n",
      "[CV] END ................learning_rate=0.1, n_estimators=300; total time=   7.7s\n",
      "[CV] END ................learning_rate=0.1, n_estimators=300; total time=   7.7s\n",
      "[CV] END ................learning_rate=0.1, n_estimators=300; total time=   7.7s\n",
      "[CV] END ................learning_rate=0.1, n_estimators=300; total time=   7.6s\n",
      "[CV] END ................learning_rate=0.1, n_estimators=300; total time=   8.1s\n",
      "[CV] END ................learning_rate=0.1, n_estimators=500; total time=  12.9s\n",
      "[CV] END ................learning_rate=0.1, n_estimators=500; total time=  13.0s\n",
      "[CV] END ................learning_rate=0.1, n_estimators=500; total time=  13.0s\n",
      "[CV] END ................learning_rate=0.1, n_estimators=500; total time=  12.9s\n",
      "[CV] END ................learning_rate=0.1, n_estimators=500; total time=  13.0s\n",
      "[CV] END ...............learning_rate=0.01, n_estimators=100; total time=   2.6s\n",
      "[CV] END ...............learning_rate=0.01, n_estimators=100; total time=   2.5s\n",
      "[CV] END ...............learning_rate=0.01, n_estimators=100; total time=   2.5s\n",
      "[CV] END ...............learning_rate=0.01, n_estimators=100; total time=   2.5s\n",
      "[CV] END ...............learning_rate=0.01, n_estimators=100; total time=   2.7s\n",
      "[CV] END ...............learning_rate=0.01, n_estimators=300; total time=   7.8s\n",
      "[CV] END ...............learning_rate=0.01, n_estimators=300; total time=   7.8s\n",
      "[CV] END ...............learning_rate=0.01, n_estimators=300; total time=   7.8s\n",
      "[CV] END ...............learning_rate=0.01, n_estimators=300; total time=   7.8s\n",
      "[CV] END ...............learning_rate=0.01, n_estimators=300; total time=   7.9s\n",
      "[CV] END ...............learning_rate=0.01, n_estimators=500; total time=  13.1s\n",
      "[CV] END ...............learning_rate=0.01, n_estimators=500; total time=  13.1s\n",
      "[CV] END ...............learning_rate=0.01, n_estimators=500; total time=  12.9s\n",
      "[CV] END ...............learning_rate=0.01, n_estimators=500; total time=  12.9s\n",
      "[CV] END ...............learning_rate=0.01, n_estimators=500; total time=  13.9s\n",
      "Fitting 5 folds for each of 6 candidates, totalling 30 fits\n",
      "[CV] END ................learning_rate=0.1, n_estimators=100; total time=   1.9s\n",
      "[CV] END ................learning_rate=0.1, n_estimators=100; total time=   1.9s\n",
      "[CV] END ................learning_rate=0.1, n_estimators=100; total time=   1.8s\n",
      "[CV] END ................learning_rate=0.1, n_estimators=100; total time=   1.8s\n",
      "[CV] END ................learning_rate=0.1, n_estimators=100; total time=   1.8s\n",
      "[CV] END ................learning_rate=0.1, n_estimators=300; total time=   4.4s\n",
      "[CV] END ................learning_rate=0.1, n_estimators=300; total time=   3.6s\n",
      "[CV] END ................learning_rate=0.1, n_estimators=300; total time=   4.4s\n",
      "[CV] END ................learning_rate=0.1, n_estimators=300; total time=   3.2s\n",
      "[CV] END ................learning_rate=0.1, n_estimators=300; total time=   5.4s\n",
      "[CV] END ................learning_rate=0.1, n_estimators=500; total time=   4.7s\n",
      "[CV] END ................learning_rate=0.1, n_estimators=500; total time=   3.8s\n",
      "[CV] END ................learning_rate=0.1, n_estimators=500; total time=   4.3s\n",
      "[CV] END ................learning_rate=0.1, n_estimators=500; total time=   3.2s\n",
      "[CV] END ................learning_rate=0.1, n_estimators=500; total time=   3.2s\n",
      "[CV] END ...............learning_rate=0.01, n_estimators=100; total time=   1.9s\n",
      "[CV] END ...............learning_rate=0.01, n_estimators=100; total time=   2.0s\n",
      "[CV] END ...............learning_rate=0.01, n_estimators=100; total time=   2.0s\n",
      "[CV] END ...............learning_rate=0.01, n_estimators=100; total time=   2.0s\n",
      "[CV] END ...............learning_rate=0.01, n_estimators=100; total time=   2.0s\n",
      "[CV] END ...............learning_rate=0.01, n_estimators=300; total time=   5.9s\n",
      "[CV] END ...............learning_rate=0.01, n_estimators=300; total time=   5.9s\n",
      "[CV] END ...............learning_rate=0.01, n_estimators=300; total time=   5.9s\n",
      "[CV] END ...............learning_rate=0.01, n_estimators=300; total time=   6.0s\n",
      "[CV] END ...............learning_rate=0.01, n_estimators=300; total time=   6.0s\n",
      "[CV] END ...............learning_rate=0.01, n_estimators=500; total time=   9.8s\n",
      "[CV] END ...............learning_rate=0.01, n_estimators=500; total time=   9.9s\n",
      "[CV] END ...............learning_rate=0.01, n_estimators=500; total time=   9.8s\n",
      "[CV] END ...............learning_rate=0.01, n_estimators=500; total time=   9.9s\n",
      "[CV] END ...............learning_rate=0.01, n_estimators=500; total time=   9.9s\n",
      "Fitting 5 folds for each of 6 candidates, totalling 30 fits\n",
      "[CV] END ................learning_rate=0.1, n_estimators=100; total time=   0.1s\n",
      "[CV] END ................learning_rate=0.1, n_estimators=100; total time=   0.1s\n",
      "[CV] END ................learning_rate=0.1, n_estimators=100; total time=   0.1s\n",
      "[CV] END ................learning_rate=0.1, n_estimators=100; total time=   0.1s\n",
      "[CV] END ................learning_rate=0.1, n_estimators=100; total time=   0.1s\n",
      "[CV] END ................learning_rate=0.1, n_estimators=300; total time=   0.4s\n",
      "[CV] END ................learning_rate=0.1, n_estimators=300; total time=   0.4s\n",
      "[CV] END ................learning_rate=0.1, n_estimators=300; total time=   0.4s\n",
      "[CV] END ................learning_rate=0.1, n_estimators=300; total time=   0.4s\n",
      "[CV] END ................learning_rate=0.1, n_estimators=300; total time=   0.4s\n",
      "[CV] END ................learning_rate=0.1, n_estimators=500; total time=   0.7s\n",
      "[CV] END ................learning_rate=0.1, n_estimators=500; total time=   0.6s\n",
      "[CV] END ................learning_rate=0.1, n_estimators=500; total time=   0.6s\n",
      "[CV] END ................learning_rate=0.1, n_estimators=500; total time=   0.7s\n",
      "[CV] END ................learning_rate=0.1, n_estimators=500; total time=   0.6s\n",
      "[CV] END ...............learning_rate=0.01, n_estimators=100; total time=   0.1s\n",
      "[CV] END ...............learning_rate=0.01, n_estimators=100; total time=   0.1s\n",
      "[CV] END ...............learning_rate=0.01, n_estimators=100; total time=   0.1s\n",
      "[CV] END ...............learning_rate=0.01, n_estimators=100; total time=   0.1s\n",
      "[CV] END ...............learning_rate=0.01, n_estimators=100; total time=   0.1s\n",
      "[CV] END ...............learning_rate=0.01, n_estimators=300; total time=   0.4s\n",
      "[CV] END ...............learning_rate=0.01, n_estimators=300; total time=   0.4s\n",
      "[CV] END ...............learning_rate=0.01, n_estimators=300; total time=   0.4s\n",
      "[CV] END ...............learning_rate=0.01, n_estimators=300; total time=   0.4s\n",
      "[CV] END ...............learning_rate=0.01, n_estimators=300; total time=   0.4s\n",
      "[CV] END ...............learning_rate=0.01, n_estimators=500; total time=   0.8s\n",
      "[CV] END ...............learning_rate=0.01, n_estimators=500; total time=   0.8s\n",
      "[CV] END ...............learning_rate=0.01, n_estimators=500; total time=   0.8s\n",
      "[CV] END ...............learning_rate=0.01, n_estimators=500; total time=   0.8s\n",
      "[CV] END ...............learning_rate=0.01, n_estimators=500; total time=   0.8s\n",
      "Fitting 5 folds for each of 6 candidates, totalling 30 fits\n",
      "[CV] END ................learning_rate=0.1, n_estimators=100; total time=   0.3s\n",
      "[CV] END ................learning_rate=0.1, n_estimators=100; total time=   0.3s\n",
      "[CV] END ................learning_rate=0.1, n_estimators=100; total time=   0.3s\n",
      "[CV] END ................learning_rate=0.1, n_estimators=100; total time=   0.3s\n",
      "[CV] END ................learning_rate=0.1, n_estimators=100; total time=   0.3s\n",
      "[CV] END ................learning_rate=0.1, n_estimators=300; total time=   1.0s\n",
      "[CV] END ................learning_rate=0.1, n_estimators=300; total time=   1.0s\n",
      "[CV] END ................learning_rate=0.1, n_estimators=300; total time=   1.0s\n",
      "[CV] END ................learning_rate=0.1, n_estimators=300; total time=   1.0s\n",
      "[CV] END ................learning_rate=0.1, n_estimators=300; total time=   1.0s\n",
      "[CV] END ................learning_rate=0.1, n_estimators=500; total time=   1.7s\n",
      "[CV] END ................learning_rate=0.1, n_estimators=500; total time=   1.7s\n",
      "[CV] END ................learning_rate=0.1, n_estimators=500; total time=   1.7s\n",
      "[CV] END ................learning_rate=0.1, n_estimators=500; total time=   1.7s\n",
      "[CV] END ................learning_rate=0.1, n_estimators=500; total time=   1.7s\n",
      "[CV] END ...............learning_rate=0.01, n_estimators=100; total time=   0.3s\n",
      "[CV] END ...............learning_rate=0.01, n_estimators=100; total time=   0.3s\n",
      "[CV] END ...............learning_rate=0.01, n_estimators=100; total time=   0.3s\n",
      "[CV] END ...............learning_rate=0.01, n_estimators=100; total time=   0.3s\n",
      "[CV] END ...............learning_rate=0.01, n_estimators=100; total time=   0.3s\n",
      "[CV] END ...............learning_rate=0.01, n_estimators=300; total time=   1.0s\n",
      "[CV] END ...............learning_rate=0.01, n_estimators=300; total time=   1.0s\n",
      "[CV] END ...............learning_rate=0.01, n_estimators=300; total time=   1.0s\n",
      "[CV] END ...............learning_rate=0.01, n_estimators=300; total time=   1.0s\n",
      "[CV] END ...............learning_rate=0.01, n_estimators=300; total time=   1.1s\n",
      "[CV] END ...............learning_rate=0.01, n_estimators=500; total time=   1.8s\n",
      "[CV] END ...............learning_rate=0.01, n_estimators=500; total time=   1.8s\n",
      "[CV] END ...............learning_rate=0.01, n_estimators=500; total time=   1.8s\n",
      "[CV] END ...............learning_rate=0.01, n_estimators=500; total time=   1.8s\n",
      "[CV] END ...............learning_rate=0.01, n_estimators=500; total time=   1.9s\n",
      "LGBMRegressor Best Model:\n",
      "LGBMRegressor(n_estimators=500)\n",
      "LGBMRegressor Best Hyperparameters:\n",
      "{'boosting_type': 'gbdt', 'class_weight': None, 'colsample_bytree': 1.0, 'importance_type': 'split', 'learning_rate': 0.1, 'max_depth': -1, 'min_child_samples': 20, 'min_child_weight': 0.001, 'min_split_gain': 0.0, 'n_estimators': 500, 'n_jobs': -1, 'num_leaves': 31, 'objective': None, 'random_state': None, 'reg_alpha': 0.0, 'reg_lambda': 0.0, 'silent': 'warn', 'subsample': 1.0, 'subsample_for_bin': 200000, 'subsample_freq': 0}\n",
      "XGBRegressor Best Model:\n",
      "XGBRegressor(base_score=None, booster=None, callbacks=None,\n",
      "             colsample_bylevel=None, colsample_bynode=None,\n",
      "             colsample_bytree=None, early_stopping_rounds=None,\n",
      "             enable_categorical=False, eval_metric=None, feature_types=None,\n",
      "             gamma=None, gpu_id=None, grow_policy=None, importance_type=None,\n",
      "             interaction_constraints=None, learning_rate=0.1, max_bin=None,\n",
      "             max_cat_threshold=None, max_cat_to_onehot=None,\n",
      "             max_delta_step=None, max_depth=None, max_leaves=None,\n",
      "             min_child_weight=None, missing=nan, monotone_constraints=None,\n",
      "             n_estimators=500, n_jobs=None, num_parallel_tree=None,\n",
      "             predictor=None, random_state=None, ...)\n",
      "XGBRegressor Best Hyperparameters:\n",
      "{'objective': 'reg:squarederror', 'base_score': None, 'booster': None, 'callbacks': None, 'colsample_bylevel': None, 'colsample_bynode': None, 'colsample_bytree': None, 'early_stopping_rounds': None, 'enable_categorical': False, 'eval_metric': None, 'feature_types': None, 'gamma': None, 'gpu_id': None, 'grow_policy': None, 'importance_type': None, 'interaction_constraints': None, 'learning_rate': 0.1, 'max_bin': None, 'max_cat_threshold': None, 'max_cat_to_onehot': None, 'max_delta_step': None, 'max_depth': None, 'max_leaves': None, 'min_child_weight': None, 'missing': nan, 'monotone_constraints': None, 'n_estimators': 500, 'n_jobs': None, 'num_parallel_tree': None, 'predictor': None, 'random_state': None, 'reg_alpha': None, 'reg_lambda': None, 'sampling_method': None, 'scale_pos_weight': None, 'subsample': None, 'tree_method': None, 'validate_parameters': None, 'verbosity': None}\n",
      "GradientBoostingRegressor Best Model:\n",
      "GradientBoostingRegressor(n_estimators=500)\n",
      "GradientBoostingRegressor Best Hyperparameters:\n",
      "{'alpha': 0.9, 'ccp_alpha': 0.0, 'criterion': 'friedman_mse', 'init': None, 'learning_rate': 0.1, 'loss': 'squared_error', 'max_depth': 3, 'max_features': None, 'max_leaf_nodes': None, 'min_impurity_decrease': 0.0, 'min_samples_leaf': 1, 'min_samples_split': 2, 'min_weight_fraction_leaf': 0.0, 'n_estimators': 500, 'n_iter_no_change': None, 'random_state': None, 'subsample': 1.0, 'tol': 0.0001, 'validation_fraction': 0.1, 'verbose': 0, 'warm_start': False}\n",
      "ensemble mse:, 0.20734714637223678\n"
     ]
    }
   ],
   "source": [
    "\n",
    "params_grid = {\n",
    "    'LinearRegression': {},\n",
    "    'Ridge': {'alpha': [0.1, 1.0, 5.0, 10.0]},\n",
    "    'Lasso': {'alpha': [0.1, 1.0, 5.0, 10.0]},\n",
    "    'ElasticNet': {'alpha': [0.1, 1.0, 5.0, 10.0], 'l1_ratio': [0.25, 0.5, 0.75]},\n",
    "    'SVR': {'C': [0.1, 1.0, 10.0], 'kernel': ['linear', 'rbf']},\n",
    "    'DecisionTreeRegressor': {'max_depth': [None, 5, 10]},\n",
    "    'RandomForestRegressor': {'n_estimators': [100, 300, 500], 'max_depth': [None, 5, 10]},\n",
    "    'GradientBoostingRegressor': {'n_estimators': [100, 300, 500], 'learning_rate': [0.1, 0.01]},\n",
    "    'AdaBoostRegressor': {'n_estimators': [100, 300, 500], 'learning_rate': [0.1, 0.01]},\n",
    "    'LGBMRegressor': {'n_estimators': [100, 300, 500], 'learning_rate': [0.1, 0.01]},\n",
    "    'XGBRegressor': {'n_estimators': [100, 300, 500], 'learning_rate': [0.1, 0.01]}\n",
    "}\n",
    "\n",
    "# Create a dictionary to store the best models\n",
    "best_models = {}\n",
    "\n",
    "# Perform grid search for each regressor and select the best model based on performance\n",
    "for regressor in regressors:\n",
    "    regressor_name = regressor.__class__.__name__\n",
    "    grid_search = GridSearchCV(regressor, params_grid[regressor_name], cv=5, verbose=2)\n",
    "    grid_search.fit(X_train, y_train)\n",
    "    best_model = grid_search.best_estimator_\n",
    "    # Assess model over validation dataset using the MSE metric\n",
    "    mse = mean_squared_error(y_validation, best_model.predict(X_validation))\n",
    "    best_models[regressor_name] = (best_model, mse)\n",
    "\n",
    "# Select top 3 models for building an Ensemble Regressor\n",
    "top_models = sorted(best_models.items(), key=lambda x: x[1][1])[:3]\n",
    "\n",
    "for regressor_name, (best_model, mse) in top_models:\n",
    "    print(f\"{regressor_name} Best Model:\")\n",
    "    print(best_model)\n",
    "    print(f\"{regressor_name} Best Hyperparameters:\")\n",
    "    print(best_model.get_params())\n",
    "    \n",
    "# Set up the ensemble regressor from top 3 models\n",
    "ensemble = VotingRegressor(estimators=[(t[0],t[1][0]) for t in top_models])\n",
    "# Fit the ensemble on the training data\n",
    "ensemble.fit(X_train, y_train)\n",
    "#Ensemble MSE over the validation dataset\n",
    "ensemble_mse = mean_squared_error(y_validation, ensemble.predict(X_validation))\n",
    "print(f\"ensemble mse:, {ensemble_mse}\")"
   ]
  },
  {
   "cell_type": "code",
   "execution_count": 32,
   "id": "028c6dcc",
   "metadata": {},
   "outputs": [
    {
     "data": {
      "text/html": [
       "<style>#sk-container-id-2 {color: black;background-color: white;}#sk-container-id-2 pre{padding: 0;}#sk-container-id-2 div.sk-toggleable {background-color: white;}#sk-container-id-2 label.sk-toggleable__label {cursor: pointer;display: block;width: 100%;margin-bottom: 0;padding: 0.3em;box-sizing: border-box;text-align: center;}#sk-container-id-2 label.sk-toggleable__label-arrow:before {content: \"▸\";float: left;margin-right: 0.25em;color: #696969;}#sk-container-id-2 label.sk-toggleable__label-arrow:hover:before {color: black;}#sk-container-id-2 div.sk-estimator:hover label.sk-toggleable__label-arrow:before {color: black;}#sk-container-id-2 div.sk-toggleable__content {max-height: 0;max-width: 0;overflow: hidden;text-align: left;background-color: #f0f8ff;}#sk-container-id-2 div.sk-toggleable__content pre {margin: 0.2em;color: black;border-radius: 0.25em;background-color: #f0f8ff;}#sk-container-id-2 input.sk-toggleable__control:checked~div.sk-toggleable__content {max-height: 200px;max-width: 100%;overflow: auto;}#sk-container-id-2 input.sk-toggleable__control:checked~label.sk-toggleable__label-arrow:before {content: \"▾\";}#sk-container-id-2 div.sk-estimator input.sk-toggleable__control:checked~label.sk-toggleable__label {background-color: #d4ebff;}#sk-container-id-2 div.sk-label input.sk-toggleable__control:checked~label.sk-toggleable__label {background-color: #d4ebff;}#sk-container-id-2 input.sk-hidden--visually {border: 0;clip: rect(1px 1px 1px 1px);clip: rect(1px, 1px, 1px, 1px);height: 1px;margin: -1px;overflow: hidden;padding: 0;position: absolute;width: 1px;}#sk-container-id-2 div.sk-estimator {font-family: monospace;background-color: #f0f8ff;border: 1px dotted black;border-radius: 0.25em;box-sizing: border-box;margin-bottom: 0.5em;}#sk-container-id-2 div.sk-estimator:hover {background-color: #d4ebff;}#sk-container-id-2 div.sk-parallel-item::after {content: \"\";width: 100%;border-bottom: 1px solid gray;flex-grow: 1;}#sk-container-id-2 div.sk-label:hover label.sk-toggleable__label {background-color: #d4ebff;}#sk-container-id-2 div.sk-serial::before {content: \"\";position: absolute;border-left: 1px solid gray;box-sizing: border-box;top: 0;bottom: 0;left: 50%;z-index: 0;}#sk-container-id-2 div.sk-serial {display: flex;flex-direction: column;align-items: center;background-color: white;padding-right: 0.2em;padding-left: 0.2em;position: relative;}#sk-container-id-2 div.sk-item {position: relative;z-index: 1;}#sk-container-id-2 div.sk-parallel {display: flex;align-items: stretch;justify-content: center;background-color: white;position: relative;}#sk-container-id-2 div.sk-item::before, #sk-container-id-2 div.sk-parallel-item::before {content: \"\";position: absolute;border-left: 1px solid gray;box-sizing: border-box;top: 0;bottom: 0;left: 50%;z-index: -1;}#sk-container-id-2 div.sk-parallel-item {display: flex;flex-direction: column;z-index: 1;position: relative;background-color: white;}#sk-container-id-2 div.sk-parallel-item:first-child::after {align-self: flex-end;width: 50%;}#sk-container-id-2 div.sk-parallel-item:last-child::after {align-self: flex-start;width: 50%;}#sk-container-id-2 div.sk-parallel-item:only-child::after {width: 0;}#sk-container-id-2 div.sk-dashed-wrapped {border: 1px dashed gray;margin: 0 0.4em 0.5em 0.4em;box-sizing: border-box;padding-bottom: 0.4em;background-color: white;}#sk-container-id-2 div.sk-label label {font-family: monospace;font-weight: bold;display: inline-block;line-height: 1.2em;}#sk-container-id-2 div.sk-label-container {text-align: center;}#sk-container-id-2 div.sk-container {/* jupyter's `normalize.less` sets `[hidden] { display: none; }` but bootstrap.min.css set `[hidden] { display: none !important; }` so we also need the `!important` here to be able to override the default hidden behavior on the sphinx rendered scikit-learn.org. See: https://github.com/scikit-learn/scikit-learn/issues/21755 */display: inline-block !important;position: relative;}#sk-container-id-2 div.sk-text-repr-fallback {display: none;}</style><div id=\"sk-container-id-2\" class=\"sk-top-container\"><div class=\"sk-text-repr-fallback\"><pre>XGBRegressor(base_score=None, booster=None, callbacks=None,\n",
       "             colsample_bylevel=None, colsample_bynode=None,\n",
       "             colsample_bytree=None, early_stopping_rounds=None,\n",
       "             enable_categorical=False, eval_metric=None, feature_types=None,\n",
       "             gamma=None, gpu_id=None, grow_policy=None, importance_type=None,\n",
       "             interaction_constraints=None, learning_rate=None, max_bin=None,\n",
       "             max_cat_threshold=None, max_cat_to_onehot=None,\n",
       "             max_delta_step=None, max_depth=None, max_leaves=None,\n",
       "             min_child_weight=None, missing=nan, monotone_constraints=None,\n",
       "             n_estimators=100, n_jobs=None, num_parallel_tree=None,\n",
       "             predictor=None, random_state=None, ...)</pre><b>In a Jupyter environment, please rerun this cell to show the HTML representation or trust the notebook. <br />On GitHub, the HTML representation is unable to render, please try loading this page with nbviewer.org.</b></div><div class=\"sk-container\" hidden><div class=\"sk-item\"><div class=\"sk-estimator sk-toggleable\"><input class=\"sk-toggleable__control sk-hidden--visually\" id=\"sk-estimator-id-2\" type=\"checkbox\" checked><label for=\"sk-estimator-id-2\" class=\"sk-toggleable__label sk-toggleable__label-arrow\">XGBRegressor</label><div class=\"sk-toggleable__content\"><pre>XGBRegressor(base_score=None, booster=None, callbacks=None,\n",
       "             colsample_bylevel=None, colsample_bynode=None,\n",
       "             colsample_bytree=None, early_stopping_rounds=None,\n",
       "             enable_categorical=False, eval_metric=None, feature_types=None,\n",
       "             gamma=None, gpu_id=None, grow_policy=None, importance_type=None,\n",
       "             interaction_constraints=None, learning_rate=None, max_bin=None,\n",
       "             max_cat_threshold=None, max_cat_to_onehot=None,\n",
       "             max_delta_step=None, max_depth=None, max_leaves=None,\n",
       "             min_child_weight=None, missing=nan, monotone_constraints=None,\n",
       "             n_estimators=100, n_jobs=None, num_parallel_tree=None,\n",
       "             predictor=None, random_state=None, ...)</pre></div></div></div></div></div>"
      ],
      "text/plain": [
       "XGBRegressor(base_score=None, booster=None, callbacks=None,\n",
       "             colsample_bylevel=None, colsample_bynode=None,\n",
       "             colsample_bytree=None, early_stopping_rounds=None,\n",
       "             enable_categorical=False, eval_metric=None, feature_types=None,\n",
       "             gamma=None, gpu_id=None, grow_policy=None, importance_type=None,\n",
       "             interaction_constraints=None, learning_rate=None, max_bin=None,\n",
       "             max_cat_threshold=None, max_cat_to_onehot=None,\n",
       "             max_delta_step=None, max_depth=None, max_leaves=None,\n",
       "             min_child_weight=None, missing=nan, monotone_constraints=None,\n",
       "             n_estimators=100, n_jobs=None, num_parallel_tree=None,\n",
       "             predictor=None, random_state=None, ...)"
      ]
     },
     "execution_count": 32,
     "metadata": {},
     "output_type": "execute_result"
    }
   ],
   "source": [
    "regressor"
   ]
  },
  {
   "cell_type": "markdown",
   "id": "Wnuwv1vzD4Cv",
   "metadata": {
    "id": "Wnuwv1vzD4Cv"
   },
   "source": [
    "# Top models (Name, Model, MSE)"
   ]
  },
  {
   "cell_type": "code",
   "execution_count": 33,
   "id": "0YbMXH7SCMvU",
   "metadata": {
    "id": "0YbMXH7SCMvU"
   },
   "outputs": [
    {
     "data": {
      "text/plain": [
       "[('LGBMRegressor', (LGBMRegressor(n_estimators=500), 0.20536290573886634)),\n",
       " ('XGBRegressor',\n",
       "  (XGBRegressor(base_score=None, booster=None, callbacks=None,\n",
       "                colsample_bylevel=None, colsample_bynode=None,\n",
       "                colsample_bytree=None, early_stopping_rounds=None,\n",
       "                enable_categorical=False, eval_metric=None, feature_types=None,\n",
       "                gamma=None, gpu_id=None, grow_policy=None, importance_type=None,\n",
       "                interaction_constraints=None, learning_rate=0.1, max_bin=None,\n",
       "                max_cat_threshold=None, max_cat_to_onehot=None,\n",
       "                max_delta_step=None, max_depth=None, max_leaves=None,\n",
       "                min_child_weight=None, missing=nan, monotone_constraints=None,\n",
       "                n_estimators=500, n_jobs=None, num_parallel_tree=None,\n",
       "                predictor=None, random_state=None, ...),\n",
       "   0.21566359166257829)),\n",
       " ('GradientBoostingRegressor',\n",
       "  (GradientBoostingRegressor(n_estimators=500), 0.24323372148414027))]"
      ]
     },
     "execution_count": 33,
     "metadata": {},
     "output_type": "execute_result"
    }
   ],
   "source": [
    "top_models"
   ]
  },
  {
   "cell_type": "markdown",
   "id": "UDjwiLnLD8oR",
   "metadata": {
    "id": "UDjwiLnLD8oR"
   },
   "source": [
    "# Ensemle Object"
   ]
  },
  {
   "cell_type": "code",
   "execution_count": 34,
   "id": "Mw0Wa0fHAXjb",
   "metadata": {
    "id": "Mw0Wa0fHAXjb"
   },
   "outputs": [
    {
     "data": {
      "text/html": [
       "<style>#sk-container-id-3 {color: black;background-color: white;}#sk-container-id-3 pre{padding: 0;}#sk-container-id-3 div.sk-toggleable {background-color: white;}#sk-container-id-3 label.sk-toggleable__label {cursor: pointer;display: block;width: 100%;margin-bottom: 0;padding: 0.3em;box-sizing: border-box;text-align: center;}#sk-container-id-3 label.sk-toggleable__label-arrow:before {content: \"▸\";float: left;margin-right: 0.25em;color: #696969;}#sk-container-id-3 label.sk-toggleable__label-arrow:hover:before {color: black;}#sk-container-id-3 div.sk-estimator:hover label.sk-toggleable__label-arrow:before {color: black;}#sk-container-id-3 div.sk-toggleable__content {max-height: 0;max-width: 0;overflow: hidden;text-align: left;background-color: #f0f8ff;}#sk-container-id-3 div.sk-toggleable__content pre {margin: 0.2em;color: black;border-radius: 0.25em;background-color: #f0f8ff;}#sk-container-id-3 input.sk-toggleable__control:checked~div.sk-toggleable__content {max-height: 200px;max-width: 100%;overflow: auto;}#sk-container-id-3 input.sk-toggleable__control:checked~label.sk-toggleable__label-arrow:before {content: \"▾\";}#sk-container-id-3 div.sk-estimator input.sk-toggleable__control:checked~label.sk-toggleable__label {background-color: #d4ebff;}#sk-container-id-3 div.sk-label input.sk-toggleable__control:checked~label.sk-toggleable__label {background-color: #d4ebff;}#sk-container-id-3 input.sk-hidden--visually {border: 0;clip: rect(1px 1px 1px 1px);clip: rect(1px, 1px, 1px, 1px);height: 1px;margin: -1px;overflow: hidden;padding: 0;position: absolute;width: 1px;}#sk-container-id-3 div.sk-estimator {font-family: monospace;background-color: #f0f8ff;border: 1px dotted black;border-radius: 0.25em;box-sizing: border-box;margin-bottom: 0.5em;}#sk-container-id-3 div.sk-estimator:hover {background-color: #d4ebff;}#sk-container-id-3 div.sk-parallel-item::after {content: \"\";width: 100%;border-bottom: 1px solid gray;flex-grow: 1;}#sk-container-id-3 div.sk-label:hover label.sk-toggleable__label {background-color: #d4ebff;}#sk-container-id-3 div.sk-serial::before {content: \"\";position: absolute;border-left: 1px solid gray;box-sizing: border-box;top: 0;bottom: 0;left: 50%;z-index: 0;}#sk-container-id-3 div.sk-serial {display: flex;flex-direction: column;align-items: center;background-color: white;padding-right: 0.2em;padding-left: 0.2em;position: relative;}#sk-container-id-3 div.sk-item {position: relative;z-index: 1;}#sk-container-id-3 div.sk-parallel {display: flex;align-items: stretch;justify-content: center;background-color: white;position: relative;}#sk-container-id-3 div.sk-item::before, #sk-container-id-3 div.sk-parallel-item::before {content: \"\";position: absolute;border-left: 1px solid gray;box-sizing: border-box;top: 0;bottom: 0;left: 50%;z-index: -1;}#sk-container-id-3 div.sk-parallel-item {display: flex;flex-direction: column;z-index: 1;position: relative;background-color: white;}#sk-container-id-3 div.sk-parallel-item:first-child::after {align-self: flex-end;width: 50%;}#sk-container-id-3 div.sk-parallel-item:last-child::after {align-self: flex-start;width: 50%;}#sk-container-id-3 div.sk-parallel-item:only-child::after {width: 0;}#sk-container-id-3 div.sk-dashed-wrapped {border: 1px dashed gray;margin: 0 0.4em 0.5em 0.4em;box-sizing: border-box;padding-bottom: 0.4em;background-color: white;}#sk-container-id-3 div.sk-label label {font-family: monospace;font-weight: bold;display: inline-block;line-height: 1.2em;}#sk-container-id-3 div.sk-label-container {text-align: center;}#sk-container-id-3 div.sk-container {/* jupyter's `normalize.less` sets `[hidden] { display: none; }` but bootstrap.min.css set `[hidden] { display: none !important; }` so we also need the `!important` here to be able to override the default hidden behavior on the sphinx rendered scikit-learn.org. See: https://github.com/scikit-learn/scikit-learn/issues/21755 */display: inline-block !important;position: relative;}#sk-container-id-3 div.sk-text-repr-fallback {display: none;}</style><div id=\"sk-container-id-3\" class=\"sk-top-container\"><div class=\"sk-text-repr-fallback\"><pre>VotingRegressor(estimators=[(&#x27;LGBMRegressor&#x27;, LGBMRegressor(n_estimators=500)),\n",
       "                            (&#x27;XGBRegressor&#x27;,\n",
       "                             XGBRegressor(base_score=None, booster=None,\n",
       "                                          callbacks=None,\n",
       "                                          colsample_bylevel=None,\n",
       "                                          colsample_bynode=None,\n",
       "                                          colsample_bytree=None,\n",
       "                                          early_stopping_rounds=None,\n",
       "                                          enable_categorical=False,\n",
       "                                          eval_metric=None, feature_types=None,\n",
       "                                          gamma=None, gpu_id=None,\n",
       "                                          grow_policy=None,\n",
       "                                          impo...\n",
       "                                          learning_rate=0.1, max_bin=None,\n",
       "                                          max_cat_threshold=None,\n",
       "                                          max_cat_to_onehot=None,\n",
       "                                          max_delta_step=None, max_depth=None,\n",
       "                                          max_leaves=None,\n",
       "                                          min_child_weight=None, missing=nan,\n",
       "                                          monotone_constraints=None,\n",
       "                                          n_estimators=500, n_jobs=None,\n",
       "                                          num_parallel_tree=None,\n",
       "                                          predictor=None, random_state=None, ...)),\n",
       "                            (&#x27;GradientBoostingRegressor&#x27;,\n",
       "                             GradientBoostingRegressor(n_estimators=500))])</pre><b>In a Jupyter environment, please rerun this cell to show the HTML representation or trust the notebook. <br />On GitHub, the HTML representation is unable to render, please try loading this page with nbviewer.org.</b></div><div class=\"sk-container\" hidden><div class=\"sk-item sk-dashed-wrapped\"><div class=\"sk-label-container\"><div class=\"sk-label sk-toggleable\"><input class=\"sk-toggleable__control sk-hidden--visually\" id=\"sk-estimator-id-3\" type=\"checkbox\" ><label for=\"sk-estimator-id-3\" class=\"sk-toggleable__label sk-toggleable__label-arrow\">VotingRegressor</label><div class=\"sk-toggleable__content\"><pre>VotingRegressor(estimators=[(&#x27;LGBMRegressor&#x27;, LGBMRegressor(n_estimators=500)),\n",
       "                            (&#x27;XGBRegressor&#x27;,\n",
       "                             XGBRegressor(base_score=None, booster=None,\n",
       "                                          callbacks=None,\n",
       "                                          colsample_bylevel=None,\n",
       "                                          colsample_bynode=None,\n",
       "                                          colsample_bytree=None,\n",
       "                                          early_stopping_rounds=None,\n",
       "                                          enable_categorical=False,\n",
       "                                          eval_metric=None, feature_types=None,\n",
       "                                          gamma=None, gpu_id=None,\n",
       "                                          grow_policy=None,\n",
       "                                          impo...\n",
       "                                          learning_rate=0.1, max_bin=None,\n",
       "                                          max_cat_threshold=None,\n",
       "                                          max_cat_to_onehot=None,\n",
       "                                          max_delta_step=None, max_depth=None,\n",
       "                                          max_leaves=None,\n",
       "                                          min_child_weight=None, missing=nan,\n",
       "                                          monotone_constraints=None,\n",
       "                                          n_estimators=500, n_jobs=None,\n",
       "                                          num_parallel_tree=None,\n",
       "                                          predictor=None, random_state=None, ...)),\n",
       "                            (&#x27;GradientBoostingRegressor&#x27;,\n",
       "                             GradientBoostingRegressor(n_estimators=500))])</pre></div></div></div><div class=\"sk-parallel\"><div class=\"sk-parallel-item\"><div class=\"sk-item\"><div class=\"sk-label-container\"><div class=\"sk-label sk-toggleable\"><label>LGBMRegressor</label></div></div><div class=\"sk-serial\"><div class=\"sk-item\"><div class=\"sk-estimator sk-toggleable\"><input class=\"sk-toggleable__control sk-hidden--visually\" id=\"sk-estimator-id-4\" type=\"checkbox\" ><label for=\"sk-estimator-id-4\" class=\"sk-toggleable__label sk-toggleable__label-arrow\">LGBMRegressor</label><div class=\"sk-toggleable__content\"><pre>LGBMRegressor(n_estimators=500)</pre></div></div></div></div></div></div><div class=\"sk-parallel-item\"><div class=\"sk-item\"><div class=\"sk-label-container\"><div class=\"sk-label sk-toggleable\"><label>XGBRegressor</label></div></div><div class=\"sk-serial\"><div class=\"sk-item\"><div class=\"sk-estimator sk-toggleable\"><input class=\"sk-toggleable__control sk-hidden--visually\" id=\"sk-estimator-id-5\" type=\"checkbox\" ><label for=\"sk-estimator-id-5\" class=\"sk-toggleable__label sk-toggleable__label-arrow\">XGBRegressor</label><div class=\"sk-toggleable__content\"><pre>XGBRegressor(base_score=None, booster=None, callbacks=None,\n",
       "             colsample_bylevel=None, colsample_bynode=None,\n",
       "             colsample_bytree=None, early_stopping_rounds=None,\n",
       "             enable_categorical=False, eval_metric=None, feature_types=None,\n",
       "             gamma=None, gpu_id=None, grow_policy=None, importance_type=None,\n",
       "             interaction_constraints=None, learning_rate=0.1, max_bin=None,\n",
       "             max_cat_threshold=None, max_cat_to_onehot=None,\n",
       "             max_delta_step=None, max_depth=None, max_leaves=None,\n",
       "             min_child_weight=None, missing=nan, monotone_constraints=None,\n",
       "             n_estimators=500, n_jobs=None, num_parallel_tree=None,\n",
       "             predictor=None, random_state=None, ...)</pre></div></div></div></div></div></div><div class=\"sk-parallel-item\"><div class=\"sk-item\"><div class=\"sk-label-container\"><div class=\"sk-label sk-toggleable\"><label>GradientBoostingRegressor</label></div></div><div class=\"sk-serial\"><div class=\"sk-item\"><div class=\"sk-estimator sk-toggleable\"><input class=\"sk-toggleable__control sk-hidden--visually\" id=\"sk-estimator-id-6\" type=\"checkbox\" ><label for=\"sk-estimator-id-6\" class=\"sk-toggleable__label sk-toggleable__label-arrow\">GradientBoostingRegressor</label><div class=\"sk-toggleable__content\"><pre>GradientBoostingRegressor(n_estimators=500)</pre></div></div></div></div></div></div></div></div></div></div>"
      ],
      "text/plain": [
       "VotingRegressor(estimators=[('LGBMRegressor', LGBMRegressor(n_estimators=500)),\n",
       "                            ('XGBRegressor',\n",
       "                             XGBRegressor(base_score=None, booster=None,\n",
       "                                          callbacks=None,\n",
       "                                          colsample_bylevel=None,\n",
       "                                          colsample_bynode=None,\n",
       "                                          colsample_bytree=None,\n",
       "                                          early_stopping_rounds=None,\n",
       "                                          enable_categorical=False,\n",
       "                                          eval_metric=None, feature_types=None,\n",
       "                                          gamma=None, gpu_id=None,\n",
       "                                          grow_policy=None,\n",
       "                                          impo...\n",
       "                                          learning_rate=0.1, max_bin=None,\n",
       "                                          max_cat_threshold=None,\n",
       "                                          max_cat_to_onehot=None,\n",
       "                                          max_delta_step=None, max_depth=None,\n",
       "                                          max_leaves=None,\n",
       "                                          min_child_weight=None, missing=nan,\n",
       "                                          monotone_constraints=None,\n",
       "                                          n_estimators=500, n_jobs=None,\n",
       "                                          num_parallel_tree=None,\n",
       "                                          predictor=None, random_state=None, ...)),\n",
       "                            ('GradientBoostingRegressor',\n",
       "                             GradientBoostingRegressor(n_estimators=500))])"
      ]
     },
     "execution_count": 34,
     "metadata": {},
     "output_type": "execute_result"
    }
   ],
   "source": [
    "ensemble"
   ]
  },
  {
   "cell_type": "markdown",
   "id": "1baf7982",
   "metadata": {
    "id": "1baf7982",
    "papermill": {
     "duration": 0.006634,
     "end_time": "2023-05-07T09:41:30.566741",
     "exception": false,
     "start_time": "2023-05-07T09:41:30.560107",
     "status": "completed"
    },
    "tags": []
   },
   "source": [
    "# Evaluate the Ensemble model over the Test set\n",
    "Using MSE and R2 metrics"
   ]
  },
  {
   "cell_type": "code",
   "execution_count": 35,
   "id": "af2e539c",
   "metadata": {
    "execution": {
     "iopub.execute_input": "2023-05-07T09:41:30.582968Z",
     "iopub.status.busy": "2023-05-07T09:41:30.582043Z",
     "iopub.status.idle": "2023-05-07T15:55:02.381009Z",
     "shell.execute_reply": "2023-05-07T15:55:02.379180Z"
    },
    "id": "af2e539c",
    "papermill": {
     "duration": 22411.811929,
     "end_time": "2023-05-07T15:55:02.385642",
     "exception": false,
     "start_time": "2023-05-07T09:41:30.573713",
     "status": "completed"
    },
    "tags": []
   },
   "outputs": [
    {
     "name": "stdout",
     "output_type": "stream",
     "text": [
      "The Ensemble results for the Test set are MSE of 0.21067725635131032 and R2 score of 0.8489702754421913\n"
     ]
    }
   ],
   "source": [
    "\n",
    "y_pred = ensemble.predict(X_test)\n",
    "mse = mean_squared_error(y_test, y_pred)\n",
    "r2 = r2_score(y_test, y_pred)\n",
    "\n",
    "print(f'The Ensemble results for the Test set are MSE of {mse} and R2 score of {r2}')"
   ]
  },
  {
   "cell_type": "code",
   "execution_count": null,
   "id": "e0615dd9",
   "metadata": {},
   "outputs": [],
   "source": []
  }
 ],
 "metadata": {
  "colab": {
   "provenance": []
  },
  "kernelspec": {
   "display_name": "Python 3 (ipykernel)",
   "language": "python",
   "name": "python3"
  },
  "language_info": {
   "codemirror_mode": {
    "name": "ipython",
    "version": 3
   },
   "file_extension": ".py",
   "mimetype": "text/x-python",
   "name": "python",
   "nbconvert_exporter": "python",
   "pygments_lexer": "ipython3",
   "version": "3.9.13"
  },
  "papermill": {
   "default_parameters": {},
   "duration": 22870.366951,
   "end_time": "2023-05-07T16:02:13.695510",
   "environment_variables": {},
   "exception": null,
   "input_path": "__notebook__.ipynb",
   "output_path": "__notebook__.ipynb",
   "parameters": {},
   "start_time": "2023-05-07T09:41:03.328559",
   "version": "2.4.0"
  }
 },
 "nbformat": 4,
 "nbformat_minor": 5
}
